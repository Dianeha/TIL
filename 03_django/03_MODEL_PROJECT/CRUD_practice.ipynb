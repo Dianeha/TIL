{
 "cells": [
  {
   "cell_type": "code",
   "execution_count": 1,
   "metadata": {},
   "outputs": [],
   "source": [
    "from students.models import Student, Menu"
   ]
  },
  {
   "cell_type": "markdown",
   "metadata": {},
   "source": [
    "Student\n",
    "* `name = models.CharField(max_length=10)`\n",
    "* `email = models.CharField(max_length=50)`\n",
    "* `github_id = models.CharField(max_length=50)`\n",
    "* `age = models.IntegerField()`"
   ]
  },
  {
   "cell_type": "code",
   "execution_count": null,
   "metadata": {},
   "outputs": [],
   "source": [
    "# Create"
   ]
  },
  {
   "cell_type": "code",
   "execution_count": 2,
   "metadata": {},
   "outputs": [],
   "source": [
    "# 방법 1\n",
    "student = Student() # row 한 줄 추가 \n",
    "student.name = '여혜인'\n",
    "student.email = 'fdsd@naver.com'\n",
    "student.github_id = 'sfas'\n",
    "student.age = 28\n",
    "student.save()\n"
   ]
  },
  {
   "cell_type": "code",
   "execution_count": 3,
   "metadata": {},
   "outputs": [],
   "source": [
    "# 방법 2\n",
    "student = Student(name='김선오', email='sunokim@naver.com', github_id='sunokimm', age=27)\n",
    "student.save()"
   ]
  },
  {
   "cell_type": "code",
   "execution_count": 4,
   "metadata": {},
   "outputs": [],
   "source": [
    "# 방법 3(row 생성, 데이터 입력, row 저장 동시에)\n",
    "student = Student.objects.create(name='손혜린', email='haerin@naver.com', github_id='fsdfd', age=26)"
   ]
  },
  {
   "cell_type": "code",
   "execution_count": null,
   "metadata": {},
   "outputs": [],
   "source": [
    "# Read(Retrieve)"
   ]
  },
  {
   "cell_type": "code",
   "execution_count": 8,
   "metadata": {},
   "outputs": [
    {
     "name": "stdout",
     "output_type": "stream",
     "text": [
      "하다연 lilycat92@naver.com 손혜린\n"
     ]
    }
   ],
   "source": [
    "# id로 조회하기 - 무조건 하나만 존재하는 키, 없는 id 달라하면 에러\n",
    "s1 = Student.objects.get(id=1) # dict의 get 메소드와 상관이 없다.\n",
    "s2 = Student.objects.get(id=5)\n",
    "print(s1.name, s1.email, s2.name)\n"
   ]
  },
  {
   "cell_type": "code",
   "execution_count": null,
   "metadata": {},
   "outputs": [],
   "source": [
    "# update (하나를 잡아서 / 특정 값을 수정하고 저장한다.)"
   ]
  },
  {
   "cell_type": "code",
   "execution_count": 9,
   "metadata": {},
   "outputs": [],
   "source": [
    "# 하나를 잡아서\n",
    "s1 = Student.objects.get(id=1)\n",
    "# 특정값을 수정하고\n",
    "s1.age = 50\n",
    "# 저장한다.\n",
    "s1.save()"
   ]
  },
  {
   "cell_type": "code",
   "execution_count": null,
   "metadata": {},
   "outputs": [],
   "source": [
    "# Delete(Destroy) => 하나의 행을 잡아서 삭제 "
   ]
  },
  {
   "cell_type": "code",
   "execution_count": 10,
   "metadata": {},
   "outputs": [
    {
     "data": {
      "text/plain": [
       "(1, {'students.Student': 1})"
      ]
     },
     "execution_count": 10,
     "metadata": {},
     "output_type": "execute_result"
    }
   ],
   "source": [
    "# 하나의 행을 잡아서\n",
    "s5 = Student.objects.get(id=5)\n",
    "# 삭제\n",
    "s5.delete()"
   ]
  },
  {
   "cell_type": "code",
   "execution_count": null,
   "metadata": {},
   "outputs": [],
   "source": [
    "# 이 상태에서 새로 create하면 id=5를 뛰어넘고 id=6이 생성됨"
   ]
  },
  {
   "cell_type": "code",
   "execution_count": null,
   "metadata": {},
   "outputs": [],
   "source": []
  },
  {
   "cell_type": "code",
   "execution_count": 1,
   "metadata": {},
   "outputs": [],
   "source": [
    "from students.models import Menu"
   ]
  },
  {
   "cell_type": "code",
   "execution_count": 2,
   "metadata": {},
   "outputs": [],
   "source": [
    "menu = Menu()\n",
    "menu.name = '꿔바로우'\n",
    "menu.price = 28000\n",
    "menu.category = 'Cuisine'\n",
    "menu.save()"
   ]
  },
  {
   "cell_type": "code",
   "execution_count": 3,
   "metadata": {},
   "outputs": [],
   "source": [
    "menu = Menu(name='칠리새우', price=32000, category='Cuisine')\n",
    "menu.save()"
   ]
  },
  {
   "cell_type": "code",
   "execution_count": 4,
   "metadata": {},
   "outputs": [],
   "source": [
    "menu = Menu.objects.create(name='유린기', price=22000, category='Cuisine')"
   ]
  },
  {
   "cell_type": "code",
   "execution_count": 5,
   "metadata": {},
   "outputs": [],
   "source": [
    "menu = Menu()\n",
    "menu.name = '새우샤오마이'\n",
    "menu.price = 16000\n",
    "menu.category = 'Dumplings'\n",
    "menu.save()"
   ]
  },
  {
   "cell_type": "code",
   "execution_count": 6,
   "metadata": {},
   "outputs": [],
   "source": [
    "menu = Menu()\n",
    "menu.name = '고기따바오'\n",
    "menu.price = 4500\n",
    "menu.category = 'Dumplings'\n",
    "menu.save()"
   ]
  },
  {
   "cell_type": "code",
   "execution_count": 7,
   "metadata": {},
   "outputs": [],
   "source": [
    "menu = Menu()\n",
    "menu.name = '해물사천탕면'\n",
    "menu.price = 15000\n",
    "menu.category = 'Noodle'\n",
    "menu.save()"
   ]
  },
  {
   "cell_type": "code",
   "execution_count": 8,
   "metadata": {},
   "outputs": [],
   "source": [
    "menu = Menu()\n",
    "menu.name = '우육면'\n",
    "menu.price = 14000\n",
    "menu.category = 'Noodle'\n",
    "menu.save()"
   ]
  }
 ],
 "metadata": {
  "kernelspec": {
   "display_name": "Django Shell-Plus",
   "language": "python",
   "name": "django_extensions"
  },
  "language_info": {
   "codemirror_mode": {
    "name": "ipython",
    "version": 3
   },
   "file_extension": ".py",
   "mimetype": "text/x-python",
   "name": "python",
   "nbconvert_exporter": "python",
   "pygments_lexer": "ipython3",
   "version": "3.7.3"
  }
 },
 "nbformat": 4,
 "nbformat_minor": 2
}
