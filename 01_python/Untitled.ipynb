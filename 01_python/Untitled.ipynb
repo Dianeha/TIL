{
 "cells": [
  {
   "cell_type": "markdown",
   "metadata": {},
   "source": [
    "사용자가 \"안녕\"이라고 입력할때까지 인사하는 코드를 작성해보세요."
   ]
  },
  {
   "cell_type": "code",
   "execution_count": null,
   "metadata": {
    "scrolled": true
   },
   "outputs": [],
   "source": [
    "print('인사를 하시오')\n",
    "\n",
    "while greeting != '안녕':\n",
    "    greeting = input('다시')\n",
    "\n",
    "    \n",
    "print('오냐')   \n"
   ]
  },
  {
   "cell_type": "code",
   "execution_count": null,
   "metadata": {
    "scrolled": true
   },
   "outputs": [],
   "source": [
    "flag = True\n",
    "\n",
    "while flag:\n",
    "    greeting = input('인사를 하시오')\n",
    "    if greeting == '안녕':\n",
    "        print('오냐')\n",
    "        flag = False"
   ]
  },
  {
   "cell_type": "code",
   "execution_count": null,
   "metadata": {
    "scrolled": true
   },
   "outputs": [],
   "source": [
    "set1 = set([1, 2, 3, 4, 5, 5, 5, 6])\n",
    "\n",
    "for i in set1:\n",
    "    print(i)"
   ]
  },
  {
   "cell_type": "code",
   "execution_count": null,
   "metadata": {
    "scrolled": true
   },
   "outputs": [],
   "source": [
    "char = input('문자를 입력하세요')\n",
    "\n",
    "for i in char:\n",
    "    print(i)"
   ]
  },
  {
   "cell_type": "code",
   "execution_count": null,
   "metadata": {},
   "outputs": [],
   "source": [
    "odd_numbers = list(range(1, 31))[::2]\n",
    "\n",
    "odd_numbers"
   ]
  },
  {
   "cell_type": "code",
   "execution_count": null,
   "metadata": {
    "scrolled": true
   },
   "outputs": [],
   "source": [
    "lunch = ['짜장면', '초밥', '라면', '콩국수', '감동란']\n",
    "\n",
    "for index, menu in enumerate(lunch):\n",
    "    print(index, menu)\n",
    "    print(menu)"
   ]
  },
  {
   "cell_type": "code",
   "execution_count": null,
   "metadata": {},
   "outputs": [],
   "source": [
    "classroom = {'teacher':'Yu', 'parter': 'Jisun', 'me':'Dayeon'}\n",
    "\n",
    "a = list(classroom.items())\n",
    "\n",
    "a"
   ]
  },
  {
   "cell_type": "code",
   "execution_count": null,
   "metadata": {},
   "outputs": [],
   "source": [
    "print('a', 'b', 'c', 'd', 'e', 'f', sep='-')"
   ]
  },
  {
   "cell_type": "code",
   "execution_count": null,
   "metadata": {},
   "outputs": [],
   "source": [
    "# input\n",
    "\n",
    "# *args : 몇 개가 들어올지 모르겠는데 다 받아줘야 할 때 *args\n",
    "# * '(몇개 들어올지) 모르겠어요'라는 뜻"
   ]
  },
  {
   "cell_type": "code",
   "execution_count": null,
   "metadata": {},
   "outputs": [],
   "source": [
    "def my_fun(*unknown): # 이름은 사람을 위해서 잘 짓는것이고 핵심은 *에 있다.\n",
    "    return unknown\n",
    "\n",
    "# unknown이든 몰라요든 상관없는데\n",
    "# 몇개가 들어올지 모를 때 하는 말을 통일하자 => (arguements) args"
   ]
  },
  {
   "cell_type": "code",
   "execution_count": null,
   "metadata": {},
   "outputs": [],
   "source": [
    "type(my_add('a', 'b', 'c', 'd', 'e', 'f'))\n",
    "\n",
    "#튜플로 처리된다."
   ]
  },
  {
   "cell_type": "code",
   "execution_count": null,
   "metadata": {},
   "outputs": [],
   "source": [
    "def my_add(*args): # 몇개인지 모르는 여러개의 인자가 ','로 나눠서 들어올거야\n",
    "    return sum(args) #파이썬) 그러면 나는 다 묶어서 tuple을 만들거야\n",
    "\n",
    "my_add(1, 2, 1000)"
   ]
  },
  {
   "cell_type": "code",
   "execution_count": null,
   "metadata": {},
   "outputs": [],
   "source": [
    "# kwargs(keyword arguements)\n",
    "def make_dict(**dkfsdf): #키워드=인자 이런 형식으로 인자 여러개가 들어올거야\n",
    "    print(dkfsdf) # 파이썬) 그러면 나는 다 묶어서 내맘대로 dict를 만들거야\n",
    "    return dkfsdf\n",
    "\n",
    "# 역시 kwargs 이름 자체가 중요한 것은 아니다. 이것은 약속\n",
    "# 핵심은 ** : '갯수는 모르고, 키밸류 형태로 들어올 것'이라는 뜻\n",
    "\n",
    "make_dict(a=1, b=2, c=3, d=4) \n"
   ]
  },
  {
   "cell_type": "code",
   "execution_count": null,
   "metadata": {},
   "outputs": [],
   "source": [
    "# x의 n 거듭제곱 구하기 == x ** n\n",
    "def power(x, n):\n",
    "    result = 1\n",
    "    while n > 0:\n",
    "        result = result * x\n",
    "        n = n - 1\n",
    "    return result\n",
    "\n",
    "power(2, 3)"
   ]
  },
  {
   "cell_type": "code",
   "execution_count": null,
   "metadata": {},
   "outputs": [],
   "source": [
    "def myPower(x, n):\n",
    "    if n == 0:\n",
    "        return 1\n",
    "    else:\n",
    "        return myPower(x, n-1) * x\n",
    "    \n",
    "myPower(2, 3)"
   ]
  },
  {
   "cell_type": "code",
   "execution_count": null,
   "metadata": {},
   "outputs": [],
   "source": [
    "# 재귀함수 팩토리얼\n",
    "\n",
    "def my_fac(n):\n",
    "    if n == 1:\n",
    "        return 1\n",
    "    else:\n",
    "        return n * my_fac(n-1)\n",
    "    \n",
    "my_fac(5)"
   ]
  },
  {
   "cell_type": "code",
   "execution_count": null,
   "metadata": {
    "scrolled": true
   },
   "outputs": [],
   "source": [
    "# 재귀함수 피보나치 수열\n",
    "\n",
    "def my_fib(n):\n",
    "    if n==0 or n==1:\n",
    "        return 1\n",
    "    else:\n",
    "        return my_fib(n-1) + my_fib(n-2)\n",
    "\n",
    "fib_list = []\n",
    "for i in range(1, 11):\n",
    "    fib_list.append(my_fib(i))\n",
    "    print(fib_list)\n",
    "    "
   ]
  },
  {
   "cell_type": "code",
   "execution_count": null,
   "metadata": {},
   "outputs": [],
   "source": [
    "\n",
    "def get_2_max(*args):\n",
    "    set1 = set(args)\n",
    "    a = set1.pop(max(set1))\n",
    "    return a\n",
    "\n",
    "get_2_max(1, 2, 3, 4)"
   ]
  },
  {
   "cell_type": "code",
   "execution_count": null,
   "metadata": {},
   "outputs": [],
   "source": [
    "# [1, 1, 1, 1, 1, 1, 2]\n",
    "# [2, 3, 2, 2, 2]), 3\n",
    "def stray(arr):\n",
    "    base_num = arr[0]\n",
    "    compare_num = arr[0]\n",
    "    for element in arr[1:]:\n",
    "        if element == base_num:\n",
    "            if element != compare_num:\n",
    "                return compare_num\n",
    "            continue\n",
    "        else:\n",
    "            compare_num = element\n",
    "    else:\n",
    "        return compare_num\n",
    "\n",
    "stray([1, 1, 1, 1, 1, 1, 2])"
   ]
  },
  {
   "cell_type": "code",
   "execution_count": null,
   "metadata": {
    "scrolled": true
   },
   "outputs": [],
   "source": [
    "# [1, 1, 1, 1, 1, 1, 2]\n",
    "# [2, 3, 2, 2, 2]), 3\n",
    "def stray(arr):\n",
    "    \n",
    "    return min(arr, key=arr.count)\n",
    "        \n",
    "stray([2,2,2,9,2,2])"
   ]
  },
  {
   "cell_type": "code",
   "execution_count": null,
   "metadata": {},
   "outputs": [],
   "source": [
    "def char_freq(message):\n",
    "    char_dict = {}\n",
    "    for digit in message:\n",
    "        char_dict[digit] = message.count(digit)\n",
    "    return char_dict\n",
    "\n",
    "char_freq(\"I like cats\")"
   ]
  },
  {
   "cell_type": "code",
   "execution_count": null,
   "metadata": {},
   "outputs": [],
   "source": [
    "Find the next perfect square!\n",
    "import math\n",
    "\n",
    "def findNextSquare(number):\n",
    "    n = math.sqrt(number)\n",
    "    if n*10 % 10 != 0.0:\n",
    "        return -1\n",
    "    else:\n",
    "        return int((n+1)**2)\n",
    "    \n",
    "findNextSquare(5)"
   ]
  },
  {
   "cell_type": "code",
   "execution_count": null,
   "metadata": {},
   "outputs": [],
   "source": [
    "def find_next_square(sq):\n",
    "    root = sq ** 0.5\n",
    "    print(root)\n",
    "    if root.is_integer():\n",
    "        return (root + 1)**2\n",
    "    return -1\n",
    "\n",
    "find_next_square(144)\n",
    "(12.5).is_integer()"
   ]
  },
  {
   "cell_type": "code",
   "execution_count": 1,
   "metadata": {},
   "outputs": [
    {
     "ename": "NameError",
     "evalue": "name 'math' is not defined",
     "output_type": "error",
     "traceback": [
      "\u001b[1;31m---------------------------------------------------------------------------\u001b[0m",
      "\u001b[1;31mNameError\u001b[0m                                 Traceback (most recent call last)",
      "\u001b[1;32m<ipython-input-1-07d8e20b5e86>\u001b[0m in \u001b[0;36m<module>\u001b[1;34m\u001b[0m\n\u001b[0;32m      1\u001b[0m \u001b[1;32mfrom\u001b[0m \u001b[0mmath\u001b[0m \u001b[1;32mimport\u001b[0m \u001b[0msqrt\u001b[0m\u001b[1;33m\u001b[0m\u001b[1;33m\u001b[0m\u001b[0m\n\u001b[0;32m      2\u001b[0m \u001b[1;33m\u001b[0m\u001b[0m\n\u001b[1;32m----> 3\u001b[1;33m \u001b[0mmath\u001b[0m\u001b[1;33m.\u001b[0m\u001b[0msqrt\u001b[0m\u001b[1;33m(\u001b[0m\u001b[1;36m144\u001b[0m\u001b[1;33m)\u001b[0m\u001b[1;33m\u001b[0m\u001b[1;33m\u001b[0m\u001b[0m\n\u001b[0m",
      "\u001b[1;31mNameError\u001b[0m: name 'math' is not defined"
     ]
    }
   ],
   "source": [
    "from math import sqrt\n",
    "\n",
    "math.sqrt(144)"
   ]
  },
  {
   "cell_type": "code",
   "execution_count": 10,
   "metadata": {},
   "outputs": [
    {
     "data": {
      "text/plain": [
       "3"
      ]
     },
     "execution_count": 10,
     "metadata": {},
     "output_type": "execute_result"
    }
   ],
   "source": [
    "def find_short(s):\n",
    "    return min(len(x) for x in s.split())\n",
    "\n",
    "find_short(\"bitcoin take over the world maybe who knows perhaps\")"
   ]
  },
  {
   "cell_type": "code",
   "execution_count": 8,
   "metadata": {},
   "outputs": [
    {
     "data": {
      "text/plain": [
       "0"
      ]
     },
     "execution_count": 8,
     "metadata": {},
     "output_type": "execute_result"
    }
   ],
   "source": [
    "min(2,3,4,5,0,1)"
   ]
  },
  {
   "cell_type": "code",
   "execution_count": 13,
   "metadata": {},
   "outputs": [
    {
     "data": {
      "text/plain": [
       "3"
      ]
     },
     "execution_count": 13,
     "metadata": {},
     "output_type": "execute_result"
    }
   ],
   "source": [
    "a = \"bitcoin take over the world maybe who knows perhaps\"\n",
    "min(len(x) for x in a.split())"
   ]
  },
  {
   "cell_type": "code",
   "execution_count": 26,
   "metadata": {},
   "outputs": [
    {
     "data": {
      "text/plain": [
       "0"
      ]
     },
     "execution_count": 26,
     "metadata": {},
     "output_type": "execute_result"
    }
   ],
   "source": [
    "def breakChocolate(n, m):\n",
    "    if n and m:\n",
    "        return n-1 + n*(m-1)\n",
    "    else:\n",
    "        return 0\n",
    "    \n",
    "breakChocolate(1, 1)"
   ]
  },
  {
   "cell_type": "code",
   "execution_count": 20,
   "metadata": {},
   "outputs": [
    {
     "data": {
      "text/plain": [
       "[5, 4, 2]"
      ]
     },
     "execution_count": 20,
     "metadata": {},
     "output_type": "execute_result"
    }
   ],
   "source": [
    "import random\n",
    "\n",
    "l = [1, 2, 3, 4, 5]\n",
    "\n",
    "random.sample(l,3)"
   ]
  },
  {
   "cell_type": "code",
   "execution_count": 21,
   "metadata": {},
   "outputs": [
    {
     "data": {
      "text/plain": [
       "'a-b-c-d-e'"
      ]
     },
     "execution_count": 21,
     "metadata": {},
     "output_type": "execute_result"
    }
   ],
   "source": [
    "'-'.join('abcde')"
   ]
  },
  {
   "cell_type": "code",
   "execution_count": 156,
   "metadata": {},
   "outputs": [
    {
     "data": {
      "text/plain": [
       "1212"
      ]
     },
     "execution_count": 156,
     "metadata": {},
     "output_type": "execute_result"
    }
   ],
   "source": [
    "def calc(equation):\n",
    "    num_list = []\n",
    "    for e in equation.split('+'):\n",
    "        if '-' in e:\n",
    "            idx = e.index('-')\n",
    "            num_list.append(int(e[idx:]))\n",
    "            if idx:\n",
    "                num_list.append(int(e[:idx]))\n",
    "        else:\n",
    "            num_list.append(int(e))\n",
    "    return sum(num_list)\n",
    "\n",
    "calc('-12+12-7979+9191')"
   ]
  },
  {
   "cell_type": "code",
   "execution_count": 148,
   "metadata": {},
   "outputs": [
    {
     "data": {
      "text/plain": [
       "1"
      ]
     },
     "execution_count": 148,
     "metadata": {},
     "output_type": "execute_result"
    }
   ],
   "source": [
    "num_list = []\n",
    "for e in equation.split('+'):\n",
    "    if '-' in e:\n",
    "        idx = e.index('-')\n",
    "        num_list.append(int(e[:idx]))\n",
    "        num_list.append(int(e[idx:]))\n",
    "    else:\n",
    "        num_list.append(int(e))\n",
    "\n",
    "sum(num_list)"
   ]
  },
  {
   "cell_type": "code",
   "execution_count": 145,
   "metadata": {},
   "outputs": [
    {
     "ename": "TypeError",
     "evalue": "int() argument must be a string, a bytes-like object or a number, not 'list'",
     "output_type": "error",
     "traceback": [
      "\u001b[1;31m---------------------------------------------------------------------------\u001b[0m",
      "\u001b[1;31mTypeError\u001b[0m                                 Traceback (most recent call last)",
      "\u001b[1;32m<ipython-input-145-17b50bf6e3ae>\u001b[0m in \u001b[0;36m<module>\u001b[1;34m\u001b[0m\n\u001b[1;32m----> 1\u001b[1;33m \u001b[0mint\u001b[0m\u001b[1;33m(\u001b[0m\u001b[1;33m[\u001b[0m\u001b[1;33m-\u001b[0m\u001b[1;36m1\u001b[0m\u001b[1;33m,\u001b[0m \u001b[1;36m2\u001b[0m\u001b[1;33m,\u001b[0m \u001b[1;36m3\u001b[0m\u001b[1;33m]\u001b[0m\u001b[1;33m)\u001b[0m\u001b[1;33m\u001b[0m\u001b[1;33m\u001b[0m\u001b[0m\n\u001b[0m",
      "\u001b[1;31mTypeError\u001b[0m: int() argument must be a string, a bytes-like object or a number, not 'list'"
     ]
    }
   ],
   "source": [
    "\n"
   ]
  },
  {
   "cell_type": "code",
   "execution_count": 31,
   "metadata": {},
   "outputs": [
    {
     "data": {
      "text/plain": [
       "3"
      ]
     },
     "execution_count": 31,
     "metadata": {},
     "output_type": "execute_result"
    }
   ],
   "source": [
    "# p3.population의 값?\n",
    "\n",
    "class people:\n",
    "    population = 0\n",
    "\n",
    "    def __init__(self, name):\n",
    "        self.name = name\n",
    "        people.population += 1\n",
    "    \n",
    "\n",
    "p1 = people(\"John\")\n",
    "p2 = people(\"철수\")\n",
    "p3 = people(\"다연\")\n",
    "\n",
    "p1.population"
   ]
  },
  {
   "cell_type": "code",
   "execution_count": null,
   "metadata": {},
   "outputs": [],
   "source": [
    "사진 참고"
   ]
  },
  {
   "cell_type": "code",
   "execution_count": 22,
   "metadata": {},
   "outputs": [
    {
     "name": "stdout",
     "output_type": "stream",
     "text": [
      "hong\n"
     ]
    }
   ],
   "source": [
    "name = 'hong' # Global\n",
    "\n",
    "class Person:\n",
    "    name = 'choi'\n",
    "    def greeting(self):\n",
    "        print(name) # Local\n",
    "        \n",
    "p1 = Person()\n",
    "p1.name = 'kim'\n",
    "p1.greeting()"
   ]
  },
  {
   "cell_type": "code",
   "execution_count": 157,
   "metadata": {},
   "outputs": [],
   "source": [
    "# user 검증(유사 회원가입)을 작성해봅시다.\n",
    "def signup(username, password, password_confirmation):\n",
    "    if password == password_confirmation:\n",
    "        print(f'{username}님 회원가입 축하!')\n",
    "    else:\n",
    "        print('비밀번호와 비밀번호 확인이 일치하지 않습니다.')"
   ]
  },
  {
   "cell_type": "code",
   "execution_count": 159,
   "metadata": {},
   "outputs": [
    {
     "name": "stdout",
     "output_type": "stream",
     "text": [
      "비밀번호와 비밀번호 확인이 일치하지 않습니다.\n"
     ]
    }
   ],
   "source": [
    "new_user = {\n",
    "    'username': 'Diane',\n",
    "    'password': 1234,\n",
    "    'password_confirmation': 1235\n",
    "} # 실제 데이터는 이런식으로 들어온다\n",
    "\n",
    "# signup(new_user)\n",
    "# Unpacking\n",
    "signup(**new_user)"
   ]
  },
  {
   "cell_type": "code",
   "execution_count": 160,
   "metadata": {},
   "outputs": [
    {
     "name": "stdout",
     "output_type": "stream",
     "text": [
      "80\n"
     ]
    }
   ],
   "source": [
    "def func(a, b=1, c=2, *args, **kwargs):\n",
    "    d = sum([n*2 for n in args if n > 2])\n",
    "    e = sum([v*v for k, v in kwargs.items()])\n",
    "    return a + b + c + d + e\n",
    "\n",
    "print(func(9, 4, 2, 3, 1, 7, d=3, e=6))"
   ]
  }
 ],
 "metadata": {
  "kernelspec": {
   "display_name": "Python 3",
   "language": "python",
   "name": "python3"
  },
  "language_info": {
   "codemirror_mode": {
    "name": "ipython",
    "version": 3
   },
   "file_extension": ".py",
   "mimetype": "text/x-python",
   "name": "python",
   "nbconvert_exporter": "python",
   "pygments_lexer": "ipython3",
   "version": "3.7.3"
  }
 },
 "nbformat": 4,
 "nbformat_minor": 2
}
