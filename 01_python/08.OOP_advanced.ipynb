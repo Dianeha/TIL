{
 "cells": [
  {
   "cell_type": "markdown",
   "metadata": {},
   "source": [
    "# OOP advanced"
   ]
  },
  {
   "cell_type": "markdown",
   "metadata": {},
   "source": [
    "## 클래스 변수와 인스턴스 변수\n",
    "\n",
    "### 클래스 변수\n",
    "* 클래스의 속성입니다.\n",
    "* 클래스 선언 블록 최상단에 위치합니다.\n",
    "* 모든 인스턴스가 공유합니다.\n",
    "* `Class.class_variable` 과 같이 접근/할당합니다.\n",
    "\n",
    "```python\n",
    "class TestClass:\n",
    "    \n",
    "    class_variable = '클래스변수'\n",
    "    ...\n",
    "\n",
    "TestClass.class_variable  # '클래스변수'\n",
    "TestClass.class_variable = 'class variable' # 재할당\n",
    "TestClass.class_variable  # 'class variable' 바뀐값이 나온다\n",
    "\n",
    "tc = TestClass()\n",
    "tc.class_variable  \n",
    "# 인스턴스 => 클래스 => 전역 순서로 이름공간을 탐색하기 때문에, 접근하게 됩니다.\n",
    "```"
   ]
  },
  {
   "cell_type": "markdown",
   "metadata": {},
   "source": [
    "### 인스턴스 변수\n",
    "* 인스턴스의 속성입니다.\n",
    "* 각 인스턴스들의 고유한 변수입니다.\n",
    "* 메서드 정의에서 `self.instance_variable` 로 접근/할당합니다.\n",
    "* 인스턴스가 생성된 이후 `instance.instance_variable` 로 접근/할당합니다.\n",
    "\n",
    "\n",
    "```python\n",
    "class TestClass:\n",
    "    \n",
    "    def __init__(self, arg1, arg2):\n",
    "        self.instance_var1 = arg1    # 인스턴스 변수\n",
    "        self.instance_var2 = arg2\n",
    "\n",
    "    def status(self):\n",
    "        return self.instance_var1, self.instance_var2   \n",
    "\n",
    "    \n",
    "test_instance = TestClass(1, 2)\n",
    "test_instance.instance_var1  # 1\n",
    "test_instance.instance_var2  # 2\n",
    "test_instance.status()  # (1, 2)\n",
    "```"
   ]
  },
  {
   "cell_type": "code",
   "execution_count": 1,
   "metadata": {},
   "outputs": [],
   "source": [
    "# 확인해봅시다.\n",
    "class TestClass:\n",
    "    class_variable = '클래스 변수'\n",
    "    \n",
    "    def __init__(self, arg1, arg2):\n",
    "        self.instance_var1 = arg1\n",
    "        self.instance_var2 = arg2\n",
    "        \n",
    "    def get_status(self):\n",
    "        return self.instance_var1, self.instance_var2   "
   ]
  },
  {
   "cell_type": "code",
   "execution_count": 2,
   "metadata": {},
   "outputs": [
    {
     "name": "stdout",
     "output_type": "stream",
     "text": [
      "클래스 변수\n",
      "CLASS VAR\n"
     ]
    }
   ],
   "source": [
    "# 클래스 변수에 접근/재할당해 봅시다.\n",
    "print(TestClass.class_variable)\n",
    "TestClass.class_variable = 'CLASS VAR'\n",
    "print(TestClass.class_variable)"
   ]
  },
  {
   "cell_type": "code",
   "execution_count": 3,
   "metadata": {},
   "outputs": [
    {
     "name": "stdout",
     "output_type": "stream",
     "text": [
      "인스턴스--변수\n"
     ]
    }
   ],
   "source": [
    "# 인스턴스를 생성하고 확인해 봅시다.\n",
    "test_instance = TestClass('인스턴스', '변수')\n",
    "print(test_instance.instance_var1, test_instance.instance_var2, sep='--')"
   ]
  },
  {
   "cell_type": "code",
   "execution_count": 4,
   "metadata": {},
   "outputs": [
    {
     "name": "stdout",
     "output_type": "stream",
     "text": [
      "인스턴스 재할당--변수 재할당\n"
     ]
    }
   ],
   "source": [
    "# 인스턴스 변수를 재할당 해봅시다.\n",
    "test_instance.instance_var1 = '인스턴스 재할당'\n",
    "test_instance.instance_var2 = '변수 재할당'\n",
    "print(test_instance.instance_var1, test_instance.instance_var2, sep='--')"
   ]
  },
  {
   "cell_type": "code",
   "execution_count": null,
   "metadata": {},
   "outputs": [],
   "source": [
    "# 인스턴스 변수를 재할당 해봅시다."
   ]
  },
  {
   "cell_type": "markdown",
   "metadata": {},
   "source": [
    "## 인스턴스 메서드 / 클래스 메서드 / 스태틱(정적) 메서드 \n",
    "\n",
    "### 인스턴스 메서드\n",
    "* 인스턴스가 사용할 메서드 입니다.\n",
    "* 정의 위에 어떠한 데코레이터도 없으면, 자동으로 인스턴스 메서드가 됩니다.\n",
    "* **첫 번째 인자로 `self` 를 받도록 정의합니다. 이 때, 자동으로 인스턴스 객체가 `self` 가 됩니다.**\n",
    "* `인스턴스 메소드는 'self'인 인스턴스를 인자로 받고 인스턴스 변수와 같이 하나의 인스턴스에만 한정된 데이터를 생성, 변경, 참조`\n",
    "\n",
    "```python\n",
    "class MyClass:\n",
    "    def instance_method_name(self, arg1, arg2, ...):\n",
    "        ...\n",
    "\n",
    "my_instance = MyClass()\n",
    "my_instance.instance_method_name(.., ..)  # 자동으로 첫 번째 인자로 인스턴스(my_instance)가 들어갑니다.\n",
    "```"
   ]
  },
  {
   "cell_type": "markdown",
   "metadata": {},
   "source": [
    "### 클래스 메서드\n",
    "* 클래스가 사용할 메서드 입니다.\n",
    "* 정의 위에 `@classmethod` 데코레이터를 사용합니다.\n",
    "* **첫 번째 인자로 클래스(`cls`) 를 받도록 정의합니다. 이 때, 자동으로 클래스 객체가 `cls` 가 됩니다.** 인스턴스 메소드가 무조건 (self)넣고 시작하듯이\n",
    "* `클래스 메소드는 'cls'인 클래스를 인자로 받고 모든 인스턴스가 공유하는 클래스 변수와 같은 데이터를 생성, 변경 또는 참조하기 위한 메소드`\n",
    "\n",
    "```python\n",
    "class MyClass:\n",
    "    @classmethod\n",
    "    def class_method_name(cls, arg1, arg2, ...):\n",
    "        ...\n",
    "\n",
    "MyClass.class_method_name(.., ..)  # 자동으로 첫 번째 인자로 클래스(MyClass)가 들어갑니다.\n",
    "```"
   ]
  },
  {
   "cell_type": "markdown",
   "metadata": {},
   "source": [
    "### 스태틱(정적) 메서드\n",
    "* 클래스가 사용할 메서드 입니다.\n",
    "* 정의 위에 `@staticmethod` 데코레이터를 사용합니다.\n",
    "* 묵시적인 첫 번째 인자를 받지 않습니다. 즉, 인자 정의는 자유롭게 합니다. \n",
    "* **어떠한 인자도 자동으로 넘어가지 않습니다.**\n",
    "\n",
    "```python\n",
    "class MyClass:\n",
    "    @staticmethod\n",
    "    def static_method_name(arg1, arg2, ...):\n",
    "        ...\n",
    "\n",
    "MyClass.static_method_name(.., ..)  # 아무일도 자동으로 일어나지 않습니다.\n",
    "```"
   ]
  },
  {
   "cell_type": "code",
   "execution_count": 5,
   "metadata": {},
   "outputs": [],
   "source": [
    "class MyClass:\n",
    "    # 아무말도 안하면 자동으로 instance가 할 행동\n",
    "    def instance_method(self): # self는 반드시 작성\n",
    "        return self\n",
    "    \n",
    "    @classmethod\n",
    "    def class_method(cls): # cls 반드시 작성\n",
    "        return cls\n",
    "    \n",
    "    @staticmethod\n",
    "    def static_method(): # 인자는 자유롭게\n",
    "        return ':)'\n",
    "\n",
    "my_instance = MyClass()"
   ]
  },
  {
   "cell_type": "code",
   "execution_count": 6,
   "metadata": {
    "scrolled": false
   },
   "outputs": [
    {
     "name": "stdout",
     "output_type": "stream",
     "text": [
      "2515982214256 2515982214256\n",
      "True\n"
     ]
    }
   ],
   "source": [
    "# 인스턴스 입장에서 확인해 봅시다.\n",
    "print(id(my_instance.instance_method()), id(my_instance))\n",
    "print(my_instance == my_instance.instance_method())"
   ]
  },
  {
   "cell_type": "code",
   "execution_count": 7,
   "metadata": {
    "scrolled": true
   },
   "outputs": [
    {
     "name": "stdout",
     "output_type": "stream",
     "text": [
      "2515972057176 2515972057176\n",
      "True\n"
     ]
    }
   ],
   "source": [
    "# 인스턴스는 클래스 메소드에 접근합니다.\n",
    "print(id(my_instance.class_method()), id(MyClass))\n",
    "print(my_instance.class_method() == MyClass)"
   ]
  },
  {
   "cell_type": "code",
   "execution_count": 8,
   "metadata": {},
   "outputs": [
    {
     "name": "stdout",
     "output_type": "stream",
     "text": [
      ":)\n"
     ]
    }
   ],
   "source": [
    "# 인스턴스는 스태틱 메소드에 접근 가능합니다.\n",
    "print(my_instance.static_method())"
   ]
  },
  {
   "cell_type": "markdown",
   "metadata": {},
   "source": [
    "### 정리 1 - 인스턴스와 메서드\n",
    "- 인스턴스는, 3가지 메서드 모두에 접근할 수 있습니다.\n",
    "- 하지만 인스턴스에서 클래스메서드와 스태틱메서드는 호출하지 않아야 합니다. (가능하다. != 사용한다.)\n",
    "- 인스턴스가 할 행동은 모두 인스턴스 메서드로 한정 지어서 설계합니다.\n",
    "---"
   ]
  },
  {
   "cell_type": "code",
   "execution_count": 9,
   "metadata": {},
   "outputs": [
    {
     "name": "stdout",
     "output_type": "stream",
     "text": [
      "2515972057176 2515972057176\n",
      "True\n",
      "True\n"
     ]
    }
   ],
   "source": [
    "# 클래스 입장에서 확인해 봅시다.\n",
    "print(id(MyClass.class_method()), id(MyClass))\n",
    "print(MyClass == MyClass.class_method())\n",
    "print(MyClass == my_instance.class_method())"
   ]
  },
  {
   "cell_type": "code",
   "execution_count": 10,
   "metadata": {},
   "outputs": [
    {
     "data": {
      "text/plain": [
       "':)'"
      ]
     },
     "execution_count": 10,
     "metadata": {},
     "output_type": "execute_result"
    }
   ],
   "source": [
    "#클래스용 메서드인 스태틱도 확인합시다. \n",
    "MyClass.static_method()"
   ]
  },
  {
   "cell_type": "code",
   "execution_count": 11,
   "metadata": {},
   "outputs": [
    {
     "data": {
      "text/plain": [
       "<__main__.MyClass at 0x249cc39e470>"
      ]
     },
     "execution_count": 11,
     "metadata": {},
     "output_type": "execute_result"
    }
   ],
   "source": [
    "#클래스는 인스턴스 메서드에 접근 가능합니다.\n",
    "my_instance.instance_method()\n",
    "MyClass.instance_method(my_instance)"
   ]
  },
  {
   "cell_type": "markdown",
   "metadata": {},
   "source": [
    "### 정리 2 - 클래스와 메서드\n",
    "- 클래스는, 3가지 메서드 모두에 접근할 수 있습니다.\n",
    "- 하지만 클래스에서 인스턴스메서드는 호출하지 않습니다. (가능하다. != 사용한다.)\n",
    "- 클래스가 할 행동은 다음 원칙에 따라 설계합니다.\n",
    "    - 클래스 자체(`cls`)와 그 속성에 접근할 필요가 있다면 클래스메서드로 정의합니다.\n",
    "    - 클래스와 클래스 속성에 접근할 필요가 없다면 스태틱메서드로 정의합니다.  \n",
    "---"
   ]
  },
  {
   "cell_type": "markdown",
   "metadata": {},
   "source": [
    "### 인스턴스메서드 / 클래스메서드 / 스태틱메서드 자세히 살펴보기"
   ]
  },
  {
   "cell_type": "code",
   "execution_count": 12,
   "metadata": {},
   "outputs": [],
   "source": [
    "# Puppy class를 만들어보겠습니다.\n",
    "# 클래스 변수 num_of_dogs 통해 개가 생성될 때마다 증가시키도록 하겠습니다.\n",
    "# 그리고 bark() 메서드를 통해 짖을 수 있습니다. \n",
    "class Puppy:\n",
    "    num_of_dogs = 0\n",
    "    \n",
    "    def __init__(self, name, breed):\n",
    "        self.name = name\n",
    "        self.breed = breed\n",
    "        Puppy.num_of_dogs += 1\n",
    "        \n",
    "    def __del__(self):\n",
    "        Puppy.num_of_dogs -= 1\n",
    "    \n",
    "    def bark(self):\n",
    "        return 'wal'"
   ]
  },
  {
   "cell_type": "code",
   "execution_count": 15,
   "metadata": {},
   "outputs": [
    {
     "name": "stdout",
     "output_type": "stream",
     "text": [
      "wal wal wal\n",
      "3\n",
      "3\n"
     ]
    }
   ],
   "source": [
    "# 각각 이름과 종이 다른 인스턴스를 3개 만들어봅시다.\n",
    "pp1 = Puppy('토트', '말티즈')\n",
    "pp2 = Puppy('콩', '푸들')\n",
    "pp3 = Puppy('짱', '거의사자')\n",
    "\n",
    "print(pp1.bark(), pp2.bark(), pp3.bark())\n",
    "print(Puppy.num_of_dogs)\n",
    "print(pp2.num_of_dogs)"
   ]
  },
  {
   "cell_type": "code",
   "execution_count": 16,
   "metadata": {},
   "outputs": [
    {
     "data": {
      "text/plain": [
       "0"
      ]
     },
     "execution_count": 16,
     "metadata": {},
     "output_type": "execute_result"
    }
   ],
   "source": [
    "pp1 = pp2 = pp3 = 1 # 인스턴스 변수와 객체의 연결을 재할당으로 끊어버림\n",
    "Puppy.num_of_dogs"
   ]
  },
  {
   "cell_type": "code",
   "execution_count": 20,
   "metadata": {},
   "outputs": [
    {
     "data": {
      "text/plain": [
       "'wal'"
      ]
     },
     "execution_count": 20,
     "metadata": {},
     "output_type": "execute_result"
    }
   ],
   "source": [
    "# Puppy 클래스는 짖을 수 있을까요?\n",
    "Puppy.bark(pp2) # pp1과 같은 인스턴스를 넣으면 실행되긴 되는데 안쓴다."
   ]
  },
  {
   "cell_type": "markdown",
   "metadata": {},
   "source": [
    "* 클래스메서드는 다음과 같이 정의됩니다.\n",
    "\n",
    "```python\n",
    "\n",
    "@classmethod\n",
    "def methodname(cls):\n",
    "    codeblock\n",
    "```"
   ]
  },
  {
   "cell_type": "code",
   "execution_count": 22,
   "metadata": {},
   "outputs": [],
   "source": [
    "# Doggy 클래스를 정의하고 속성에 접근하는 클래스메서드를 생성해 보겠습니다.\n",
    "class Doggy:\n",
    "    num_of_dogs = 0 # 현재 있는 강아지 수\n",
    "    birth_of_dogs = 0 # 역대 존재했던 모든 강아지의 수\n",
    "    \n",
    "    def __init__(self, name, breed):\n",
    "        self.name = name\n",
    "        self.breed = breed\n",
    "        Doggy.num_of_dogs += 1\n",
    "        Doggy.birth_of_dogs += 1\n",
    "        \n",
    "    def __del__(self):\n",
    "        Doggy.num_of_dogs -= 1\n",
    "    \n",
    "    def bark(self):\n",
    "        return 'wal'\n",
    "    \n",
    "    @classmethod\n",
    "    def get_status(cls):\n",
    "        return f'Birth: {cls.birth_of_dogs}, Current: {cls.num_of_dogs}'\n",
    "        # 그냥 birth_of_dogs라고 쓰면 메소드 안에서 찾고 글로벌로 찾으러 간다.\n",
    "        # 명시적으로 써야한다. cls."
   ]
  },
  {
   "cell_type": "code",
   "execution_count": null,
   "metadata": {},
   "outputs": [],
   "source": [
    "Doggy('개', '몰라') # 이렇게 하면 태어나긴 하는데 할당이 안되었으니 del 불가\n",
    "1\n",
    "[]\n",
    "'asdf' 처럼\n",
    "# 메모리상에 만들어지긴 하는데 변수에 할당이 되지 않아 제어를 할 수 없다.\n",
    "# 추후에 갈비지콜렉터가 처리할 것임"
   ]
  },
  {
   "cell_type": "code",
   "execution_count": 23,
   "metadata": {},
   "outputs": [
    {
     "data": {
      "text/plain": [
       "'Birth: 3, Current: 3'"
      ]
     },
     "execution_count": 23,
     "metadata": {},
     "output_type": "execute_result"
    }
   ],
   "source": [
    "# Doggy 인스턴스 3 마리를 만들어보고,\n",
    "dg1 = Doggy('토트', '말티즈')\n",
    "dg2 = Doggy('콩', '푸들')\n",
    "dg3 = Doggy('짱', '거의사자')\n",
    "\n",
    "Doggy.get_status()"
   ]
  },
  {
   "cell_type": "code",
   "execution_count": null,
   "metadata": {},
   "outputs": [],
   "source": [
    "#클래스메소드 언제 사용하는지 감 잡아보기 > 전체수준에서 관리해야하는 데이터 존재할 때?\n",
    "\n",
    "class employee:\n",
    "    salary_increase_rate = 1.1\n",
    "    \n",
    "    def __init__(self, e_id, name):\n",
    "        self.id = e_id\n",
    "        self.name = name\n",
    "        \n",
    "    \n",
    "    @classmethod\n",
    "    def salary_increase_rate(cls, 물가상승률, 직급별 수당, ....):\n",
    "        ...\n",
    "        ...\n",
    "        ...\n",
    "        return cls.salary_increase_rate\n",
    "    "
   ]
  },
  {
   "cell_type": "markdown",
   "metadata": {},
   "source": [
    "* 스태틱메서드는 다음과 같이 정의됩니다.\n",
    "\n",
    "```python\n",
    "\n",
    "@staticmethod\n",
    "def methodname():\n",
    "    codeblock\n",
    "```"
   ]
  },
  {
   "cell_type": "code",
   "execution_count": 24,
   "metadata": {},
   "outputs": [],
   "source": [
    "# Dog 클래스를 정의하고 어떠한 속성에도 접근하지 않는 스태틱메서드를 만들어보겠습니다.\n",
    "class Dog:\n",
    "    num_of_dogs = 0 # 현재 있는 강아지 수\n",
    "    birth_of_dogs = 0 # 역대 존재했던 모든 강아지의 수\n",
    "    \n",
    "    def __init__(self, name, breed):\n",
    "        self.name = name\n",
    "        self.breed = breed\n",
    "        Dog.num_of_dogs += 1\n",
    "        Dog.birth_of_dogs += 1\n",
    "        \n",
    "    def __del__(self):\n",
    "        Dog.num_of_dogs -= 1\n",
    "    \n",
    "    def bark(self):\n",
    "        return 'wal'\n",
    "    \n",
    "    @classmethod\n",
    "    def get_status(cls):\n",
    "        return f'Birth: {cls.birth_of_dogs}, Current: {cls.num_of_dogs}'\n",
    "    \n",
    "    @staticmethod\n",
    "    def get_class_info():\n",
    "        return 'class Dog'"
   ]
  },
  {
   "cell_type": "code",
   "execution_count": 25,
   "metadata": {},
   "outputs": [],
   "source": [
    "# Dog 3 마리를 만들어보고,\n",
    "d1 = Doggy('토트', '말티즈')\n",
    "d2 = Doggy('콩', '푸들')\n",
    "d3 = Doggy('짱', '거의사자')"
   ]
  },
  {
   "cell_type": "code",
   "execution_count": 26,
   "metadata": {
    "scrolled": true
   },
   "outputs": [
    {
     "data": {
      "text/plain": [
       "'class Dog'"
      ]
     },
     "execution_count": 26,
     "metadata": {},
     "output_type": "execute_result"
    }
   ],
   "source": [
    "# 함수를 호출해봅시다.\n",
    "Dog.get_class_info()"
   ]
  },
  {
   "cell_type": "markdown",
   "metadata": {},
   "source": [
    "## 실습 - 스태틱(정적) 메서드\n",
    "\n",
    "> 계산기 class인 `Calculator`를 만들어봅시다.\n",
    "\n",
    "* 다음과 같이 정적 메서드를 구성한다. \n",
    "* 모든 정적 메서드는, 두 수를 받아서 각각의 연산을 한 결과를 리턴한다.\n",
    "* `a` 연산자 `b` 의 순서로 연산한다. (`a - b`, `a / b`)\n",
    "    1. `add(a, b)` : 덧셈\n",
    "    2. `sub(a, b)` : 뺄셈 \n",
    "    3. `mul(a, b)` : 곱셈\n",
    "    4. `div(a, b)` : 나눗셈"
   ]
  },
  {
   "cell_type": "code",
   "execution_count": null,
   "metadata": {},
   "outputs": [],
   "source": [
    "# 아래에 코드를 작성해주세요.\n",
    "class Calculator:\n",
    "    @staticmethod\n",
    "    def add(a, b):\n",
    "        return a + b\n",
    "    \n",
    "    @staticmethod\n",
    "    def sub(a, b):\n",
    "        return a - b\n",
    "    \n",
    "    @staticmethod\n",
    "    def mul(a, b):\n",
    "        return a * b\n",
    "    \n",
    "    @staticmethod\n",
    "    def div(a, b):\n",
    "        return a / b"
   ]
  },
  {
   "cell_type": "code",
   "execution_count": null,
   "metadata": {},
   "outputs": [],
   "source": [
    "# 정적 메서드를 호출해보세요.\n",
    "Calculator.add(4, 5)\n",
    "Calculator.sub(4, 5)\n",
    "Calculator.mul(4, 5)\n",
    "Calculator.div(4, 5)"
   ]
  },
  {
   "cell_type": "markdown",
   "metadata": {},
   "source": [
    "## 연산자 오버로딩(중복 정의)\n",
    "> operator overloading\n",
    "\n",
    "* 파이썬에 기본적으로 정의된 연산자를 직접적으로 정의하여 활용할 수 있습니다. \n",
    "\n",
    "* 몇 가지만 소개하고 활용해봅시다.\n",
    "\n",
    "```\n",
    "+  __add__   \n",
    "-  __sub__\n",
    "*  __mul__\n",
    "<  __lt__\n",
    "<= __le__\n",
    "== __eq__\n",
    "!= __ne__\n",
    ">= __ge__\n",
    ">  __gt__\n",
    "```"
   ]
  },
  {
   "cell_type": "code",
   "execution_count": null,
   "metadata": {},
   "outputs": [],
   "source": [
    "# Python => 모든 것이 객체고, 객체간의 상호작용은 모두 메소드를 통해 이루어진다. ★ 여기가 핵심\n",
    "# 1 + 2 (정수객체 1과 정수객체 2의 상호작용, 메소드인가)\n",
    "\n",
    "n = (1).__add__(3) # 1 + 3 과 같은 말\n",
    "s = 'a'.__add__('b')\n",
    "l = [1].__add__(['x'])\n",
    "\n",
    "print(n, s, l)"
   ]
  },
  {
   "cell_type": "code",
   "execution_count": null,
   "metadata": {},
   "outputs": [],
   "source": [
    "# 사람과 사람을 같은지 비교하면, 이는 나이가 같은지 비교한 결과를 반환하도록 만들어봅시다.\n",
    "class Person:\n",
    "    def __init__(self, age, name):\n",
    "        self.age = age\n",
    "        self.name = name\n",
    "    \n",
    "    def __gt__(self, other): #greater than\n",
    "        if self.age > other.age:\n",
    "            print(f'내가 {other.name}보다 나이가 많아')\n",
    "            return True\n",
    "        else:\n",
    "            print(f'내가 {other.name}보다 한참 어려')\n",
    "            return False\n",
    "        \n",
    "p1 = Person(100, '노인')\n",
    "p2 = Person(50, '청년')"
   ]
  },
  {
   "cell_type": "code",
   "execution_count": null,
   "metadata": {},
   "outputs": [],
   "source": [
    "# 연산자를 호출해 봅시다.\n",
    "p1 < p2"
   ]
  },
  {
   "cell_type": "markdown",
   "metadata": {},
   "source": [
    "# 상속 \n",
    "\n",
    "## 기초\n",
    "\n",
    "* 클래스에서 가장 큰 특징은 '상속' 기능을 가지고 있다는 것입니다. \n",
    "\n",
    "* 부모 클래스의 모든 속성이 자식 클래스에게 상속 되므로 코드 재사용성이 높아집니다.\n",
    "\n",
    "```python\n",
    "class DerivedClassName(BaseClassName):\n",
    "    code block\n",
    "```"
   ]
  },
  {
   "cell_type": "code",
   "execution_count": 2,
   "metadata": {},
   "outputs": [
    {
     "name": "stdout",
     "output_type": "stream",
     "text": [
      "반갑습니다. 저는 사람입니다.\n"
     ]
    }
   ],
   "source": [
    "# 인사만 할 수 있는 간단한 Person 클래스를 만들어봅시다.\n",
    "class Person:\n",
    "    population = 0\n",
    "    \n",
    "    def __init__(self, name='사람'):\n",
    "        self.name = name\n",
    "        Person.population += 1\n",
    "        \n",
    "    def greeting(self):\n",
    "        print(f'반갑습니다. 저는 {self.name}입니다.')\n",
    "        \n",
    "p = Person()\n",
    "p.greeting()        "
   ]
  },
  {
   "cell_type": "code",
   "execution_count": 3,
   "metadata": {},
   "outputs": [],
   "source": [
    "# Person 클래스를 상속받아 Student 클래스를 만들어봅시다.\n",
    "class Student(Person):\n",
    "    def __init__(self, student_id, name='학생'):\n",
    "        self.name = name\n",
    "        self.student_id = student_id\n",
    "        Person.population += 1\n",
    "\n",
    "    def study(self, subject):\n",
    "        return f'{subject}를 공부합니다.'"
   ]
  },
  {
   "cell_type": "code",
   "execution_count": 4,
   "metadata": {},
   "outputs": [
    {
     "data": {
      "text/plain": [
       "'Python를 공부합니다.'"
      ]
     },
     "execution_count": 4,
     "metadata": {},
     "output_type": "execute_result"
    }
   ],
   "source": [
    "# 학생을 만들어봅시다.\n",
    "s = Student(123, '김싸피')\n",
    "s.study('Python')"
   ]
  },
  {
   "cell_type": "code",
   "execution_count": 5,
   "metadata": {},
   "outputs": [
    {
     "name": "stdout",
     "output_type": "stream",
     "text": [
      "반갑습니다. 저는 김싸피입니다.\n"
     ]
    },
    {
     "data": {
      "text/plain": [
       "2"
      ]
     },
     "execution_count": 5,
     "metadata": {},
     "output_type": "execute_result"
    }
   ],
   "source": [
    "# 부모 클래스에 정의된 메서드를 호출 할 수 있습니다.\n",
    "s.greeting()\n",
    "Person.population"
   ]
  },
  {
   "cell_type": "markdown",
   "metadata": {},
   "source": [
    "* 이처럼 상속은 공통된 속성이나 메서드를 부모 클래스에 정의하고, 이를 상속받아 다양한 형태의 사람들을 만들 수 있습니다."
   ]
  },
  {
   "cell_type": "code",
   "execution_count": 31,
   "metadata": {},
   "outputs": [
    {
     "data": {
      "text/plain": [
       "True"
      ]
     },
     "execution_count": 31,
     "metadata": {},
     "output_type": "execute_result"
    }
   ],
   "source": [
    "# 진짜 상속관계인지 확인해봅시다. (클래스간 상속관계 확인 함수)\n",
    "issubclass(Student, Person)"
   ]
  },
  {
   "cell_type": "code",
   "execution_count": 32,
   "metadata": {},
   "outputs": [
    {
     "data": {
      "text/plain": [
       "(True, True)"
      ]
     },
     "execution_count": 32,
     "metadata": {},
     "output_type": "execute_result"
    }
   ],
   "source": [
    "isinstance(s, Student), isinstance(s, Person) # (클래스와 인스턴스의 관계 확인)"
   ]
  },
  {
   "cell_type": "markdown",
   "metadata": {},
   "source": [
    "## super()\n",
    "\n",
    "* 자식 클래스에 메서드를 추가로 구현할 수 있습니다.\n",
    "\n",
    "* 부모 클래스의 내용을 사용하고자 할 때, `super()`를 사용할 수 있습니다.\n",
    "\n",
    "```python\n",
    "class BabyClass(ParentClass):\n",
    "    def method(self, arg):\n",
    "        super().method(arg) \n",
    "```"
   ]
  },
  {
   "cell_type": "code",
   "execution_count": 33,
   "metadata": {},
   "outputs": [],
   "source": [
    "class Person:\n",
    "    def __init__(self, name, age, number, email):\n",
    "        self.name = name\n",
    "        self.age = age\n",
    "        self.number = number\n",
    "        self.email = email\n",
    "        \n",
    "    def introduce(self):\n",
    "        return f'나는 {self.name}입니다.'\n",
    "    \n",
    "    \n",
    "class Student(Person):\n",
    "    def __init__(self, name, age, number, email, student_id):\n",
    "        self.name = name\n",
    "        self.age = age\n",
    "        self.number = number\n",
    "        self.email = email\n",
    "        self.student_id = student_id"
   ]
  },
  {
   "cell_type": "markdown",
   "metadata": {},
   "source": [
    "* 위의 코드를 보면, 상속을 했음에도 불구하고 동일한 코드가 반복됩니다. "
   ]
  },
  {
   "cell_type": "code",
   "execution_count": null,
   "metadata": {},
   "outputs": [],
   "source": [
    "# 이를 수정해봅시다.\n",
    "class Person:\n",
    "    def __init__(self, name, age, number, email):\n",
    "        self.name = name\n",
    "        self.age = age\n",
    "        self.number = number\n",
    "        self.email = email\n",
    "        \n",
    "    def introduce(self):\n",
    "        return f'나는 {self.name}입니다.'\n",
    "    \n",
    "    \n",
    "class Student(Person):\n",
    "    def __init__(self, name, age, number, email, student_id):\n",
    "        super().__init__(name, age, number, email)\n",
    "        self.student_id = student_id"
   ]
  },
  {
   "cell_type": "code",
   "execution_count": null,
   "metadata": {},
   "outputs": [],
   "source": [
    "s = Student('Diane', 28, 1012325453, 'dsff@naver.com', 555)\n",
    "s.name, s.age, s.number, s.email, s.student_id"
   ]
  },
  {
   "cell_type": "markdown",
   "metadata": {},
   "source": [
    "## 메서드 오버라이딩(재정의, 덮어쓰기)\n",
    "> method overriding\n",
    "\n",
    "* 부모클래스에 있는 메소드를 자식클래스에서 똑같은 이름으로 메서드를 재정의할 수도 있습니다.\n",
    "* 상속 받은 클래스에서 메서드를 덮어씁니다."
   ]
  },
  {
   "cell_type": "code",
   "execution_count": 34,
   "metadata": {},
   "outputs": [],
   "source": [
    "# Person 클래스의 상속을 받아 군인처럼 인사하는 Soldier 클래스를 만들어봅시다.\n",
    "class Soldier(Person):\n",
    "    def __init__(self, name, age, number, email, rank):\n",
    "        super().__init__(name, age, number, email)\n",
    "        self.rank = rank\n",
    "        \n",
    "    def introduce(self):\n",
    "        return f'충성! {self.rank} {\" \".join(self.name)}!'"
   ]
  },
  {
   "cell_type": "code",
   "execution_count": 35,
   "metadata": {},
   "outputs": [
    {
     "data": {
      "text/plain": [
       "'충성! 하사 굳 건 이!'"
      ]
     },
     "execution_count": 35,
     "metadata": {},
     "output_type": "execute_result"
    }
   ],
   "source": [
    "s = Soldier('굳건이', 25, '0101234', 'soldier@roka.kr', '하사')\n",
    "s.introduce()"
   ]
  },
  {
   "cell_type": "markdown",
   "metadata": {},
   "source": [
    "## 상속관계에서의 이름공간\n",
    "\n",
    "* 기존에 인스턴스 -> 클래스 순으로 이름 공간을 탐색해나가는 과정에서 상속관계에 있으면 아래와 같이 확장됩니다.\n",
    "\n",
    "* 인스턴스 -> 클래스 -> 전역\n",
    "* 인스턴스 -> 자식 클래스 -> 부모 클래스 -> 전역"
   ]
  },
  {
   "cell_type": "markdown",
   "metadata": {},
   "source": [
    "## 실습 1 \n",
    "\n",
    "> 위에서 Person 클래스를 상속받는 Student 클래스를 만들어 봤습니다.\n",
    ">\n",
    ">이번에는 Person 클래스를 상속받는 Teacher 클래스를 만들어보고 Student와 Teacher 클래스에 각각 다른 행동의 메서드들을 하나씩 추가해봅시다."
   ]
  },
  {
   "cell_type": "code",
   "execution_count": null,
   "metadata": {},
   "outputs": [],
   "source": [
    "# 아래에 코드를 작성해주세요."
   ]
  },
  {
   "cell_type": "markdown",
   "metadata": {},
   "source": [
    "## 실습 2\n",
    "\n",
    "> 사실 사람은 포유류입니다. \n",
    ">\n",
    "> Animal Class를 만들고, Person클래스가 상속받도록 구성해봅시다.\n",
    ">\n",
    "> 변수나, 메서드는 자유롭게 만들어봅시다."
   ]
  },
  {
   "cell_type": "code",
   "execution_count": null,
   "metadata": {},
   "outputs": [],
   "source": [
    "# 아래에 코드를 작성해주세요."
   ]
  },
  {
   "cell_type": "markdown",
   "metadata": {},
   "source": [
    "## 다중 상속\n",
    "두개 이상의 클래스를 상속받는 경우, 다중 상속이 됩니다."
   ]
  },
  {
   "cell_type": "code",
   "execution_count": null,
   "metadata": {},
   "outputs": [],
   "source": [
    "# Person 클래스를 정의합니다.\n",
    "class Person:\n",
    "    def __init__(self, name):\n",
    "        self.name = name\n",
    "        \n",
    "    def breathe(self):\n",
    "        return '후하'\n",
    "    \n",
    "    def greeting(self):\n",
    "        return f'Hi, I am {self.name}!'"
   ]
  },
  {
   "cell_type": "code",
   "execution_count": null,
   "metadata": {},
   "outputs": [],
   "source": [
    "# Mom 클래스를 정의합니다.\n",
    "class Mom(Person):\n",
    "    gene = 'XX'\n",
    "    \n",
    "    def swim(self):\n",
    "        return '첨벙첨벙'"
   ]
  },
  {
   "cell_type": "code",
   "execution_count": null,
   "metadata": {},
   "outputs": [],
   "source": [
    "# Dad 클래스를 정의합니다.\n",
    "class Dad(Person):\n",
    "    gene = 'XY'\n",
    "    \n",
    "    def walk(self):\n",
    "        return '성큼성큼'"
   ]
  },
  {
   "cell_type": "code",
   "execution_count": null,
   "metadata": {},
   "outputs": [],
   "source": [
    "class Child:\n",
    "    def cry(self):\n",
    "        return '응애'    "
   ]
  },
  {
   "cell_type": "code",
   "execution_count": null,
   "metadata": {},
   "outputs": [],
   "source": [
    "# FirstChild 클래스를 정의합니다.\n",
    "class FirstChild(Dad, Mom, Child):\n",
    "    \n",
    "    #메소드 오버라이드(덮어쓰기)\n",
    "    def swim(self):\n",
    "        return '찹찹'    "
   ]
  },
  {
   "cell_type": "code",
   "execution_count": null,
   "metadata": {},
   "outputs": [],
   "source": [
    "# FirstChild 의 인스턴스 객체를 확인합니다.\n",
    "fc = FirstChild('하다연')"
   ]
  },
  {
   "cell_type": "code",
   "execution_count": null,
   "metadata": {},
   "outputs": [],
   "source": [
    "# cry 메서드를 실행합니다.\n",
    "fc.cry()"
   ]
  },
  {
   "cell_type": "code",
   "execution_count": null,
   "metadata": {},
   "outputs": [],
   "source": [
    "# swim 메서드를 실행합니다.\n",
    "fc.swim()"
   ]
  },
  {
   "cell_type": "code",
   "execution_count": null,
   "metadata": {},
   "outputs": [],
   "source": [
    "# walk 메서드를 실행합니다.\n",
    "fc.walk()"
   ]
  },
  {
   "cell_type": "code",
   "execution_count": null,
   "metadata": {},
   "outputs": [],
   "source": [
    "# gene 은 누구의 속성을 참조할까요? 먼저 상속받은 Dad의 속성 참조\n",
    "fc.gene"
   ]
  },
  {
   "cell_type": "code",
   "execution_count": null,
   "metadata": {},
   "outputs": [],
   "source": [
    "# 그렇다면 상속 순서를 바꿔봅시다.\n",
    "class SecondChild(Mom, Dad, Child):\n",
    "    \n",
    "    #메소드 오버라이드(덮어쓰기)\n",
    "    def walk(self):\n",
    "        return '아장아장'"
   ]
  },
  {
   "cell_type": "code",
   "execution_count": null,
   "metadata": {},
   "outputs": [],
   "source": [
    "# SecondChild 의 인스턴스 객체를 확인합니다.\n",
    "sc = SecondChild('재잉')"
   ]
  },
  {
   "cell_type": "code",
   "execution_count": null,
   "metadata": {},
   "outputs": [],
   "source": [
    "# cry메서드를 실행합니다.\n",
    "sc.cry()"
   ]
  },
  {
   "cell_type": "code",
   "execution_count": null,
   "metadata": {},
   "outputs": [],
   "source": [
    "# walk 메서드를 실행합니다.\n",
    "sc.walk()"
   ]
  },
  {
   "cell_type": "code",
   "execution_count": null,
   "metadata": {},
   "outputs": [],
   "source": [
    "# swim 메서드를 실행합니다.\n",
    "sc.swim()"
   ]
  },
  {
   "cell_type": "code",
   "execution_count": null,
   "metadata": {},
   "outputs": [],
   "source": [
    "# gene 은 누구의 속성을 참조할까요?\n",
    "sc.gene"
   ]
  },
  {
   "cell_type": "code",
   "execution_count": 4,
   "metadata": {},
   "outputs": [],
   "source": [
    "class Calculator:\n",
    "    count = 0\n",
    "    \n",
    "    def info(self):\n",
    "        print('나는 계산기입니다.')\n",
    "        \n",
    "    @staticmethod\n",
    "    def add(a, b):\n",
    "        Calculator.count += 1\n",
    "        print(f'{a} + {b}는 {a + b}입니다.')\n",
    "        \n",
    "    @classmethod\n",
    "    def history(cls):\n",
    "        print(f'총 {cls.count}번 계산했습니다.')\n",
    "        \n",
    "cal1 = Calculator()"
   ]
  },
  {
   "cell_type": "code",
   "execution_count": 5,
   "metadata": {
    "scrolled": true
   },
   "outputs": [
    {
     "name": "stdout",
     "output_type": "stream",
     "text": [
      "나는 계산기입니다.\n"
     ]
    }
   ],
   "source": [
    "cal1.info()"
   ]
  },
  {
   "cell_type": "code",
   "execution_count": 6,
   "metadata": {},
   "outputs": [
    {
     "name": "stdout",
     "output_type": "stream",
     "text": [
      "4 + 5는 9입니다.\n"
     ]
    }
   ],
   "source": [
    "Calculator.add(4, 5)"
   ]
  },
  {
   "cell_type": "code",
   "execution_count": 7,
   "metadata": {},
   "outputs": [
    {
     "name": "stdout",
     "output_type": "stream",
     "text": [
      "총 1번 계산했습니다.\n"
     ]
    }
   ],
   "source": [
    "Calculator.history()"
   ]
  },
  {
   "cell_type": "markdown",
   "metadata": {},
   "source": [
    "## 포켓몬 구현하기\n",
    "\n",
    "> 포켓몬을 상속하는 이상해씨, 파이리, 꼬부기를 구현해 봅시다. 게임을 만든다면 아래와 같이 먼저 기획을 하고 코드로 구현하게 됩니다.\n",
    "우선 아래와 같이 구현해 보고, 추가로 본인이 원하는 대로 구현 및 수정해 봅시다.\n",
    "\n",
    "모든 포켓몬은 다음과 같은 속성을 갖습니다.\n",
    "* `name`: 이름\n",
    "* `level`: 레벨\n",
    "    * 레벨은 시작할 때 모두 5 입니다.\n",
    "* `hp`: 체력\n",
    "    * 체력은 `level` * 20 입니다.\n",
    "* `exp`: 경험치\n",
    "    * 상대방을 쓰러뜨리면 상대방 `level` * 15 를 획득합니다.\n",
    "    * 경험치는 `level` * 100 이 되면, 레벨이 하나 올라가고 0부터 추가 됩니다. \n",
    "\n",
    "이후 이상해씨, 파이리, 꼬부기는 포켓몬을 상속하여 자유롭게 구현해 봅시다.\n",
    "\n",
    "추가적으로 \n",
    "\n",
    "* 포켓몬 => 물포켓몬 => 꼬부기 \n",
    "* 포켓몬 => 물포켓몬 => 잉어킹\n",
    "* 포켓몬 => 비행포켓몬, 불포켓몬 => 파이어\n",
    "\n",
    "와 같이 다양한 추가 상속관계도 구현해 봅시다."
   ]
  }
 ],
 "metadata": {
  "kernelspec": {
   "display_name": "Python 3",
   "language": "python",
   "name": "python3"
  },
  "language_info": {
   "codemirror_mode": {
    "name": "ipython",
    "version": 3
   },
   "file_extension": ".py",
   "mimetype": "text/x-python",
   "name": "python",
   "nbconvert_exporter": "python",
   "pygments_lexer": "ipython3",
   "version": "3.7.3"
  },
  "latex_envs": {
   "LaTeX_envs_menu_present": true,
   "autoclose": false,
   "autocomplete": true,
   "bibliofile": "biblio.bib",
   "cite_by": "apalike",
   "current_citInitial": 1,
   "eqLabelWithNumbers": true,
   "eqNumInitial": 1,
   "hotkeys": {
    "equation": "Ctrl-E",
    "itemize": "Ctrl-I"
   },
   "labels_anchors": false,
   "latex_user_defs": false,
   "report_style_numbering": false,
   "user_envs_cfg": false
  },
  "toc": {
   "base_numbering": 1,
   "nav_menu": {},
   "number_sections": true,
   "sideBar": true,
   "skip_h1_title": false,
   "title_cell": "Table of Contents",
   "title_sidebar": "Contents",
   "toc_cell": false,
   "toc_position": {
    "height": "calc(100% - 180px)",
    "left": "10px",
    "top": "150px",
    "width": "165px"
   },
   "toc_section_display": true,
   "toc_window_display": false
  }
 },
 "nbformat": 4,
 "nbformat_minor": 2
}
