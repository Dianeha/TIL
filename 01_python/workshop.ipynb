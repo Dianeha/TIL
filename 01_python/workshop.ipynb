{
 "cells": [
  {
   "cell_type": "markdown",
   "metadata": {},
   "source": [
    "# day01 workshop"
   ]
  },
  {
   "cell_type": "code",
   "execution_count": null,
   "metadata": {},
   "outputs": [],
   "source": [
    "# 1\n",
    "\n",
    "n, m = 5, 9\n",
    "\n",
    "print((('*' * n) + '\\n') * m)"
   ]
  },
  {
   "cell_type": "code",
   "execution_count": 16,
   "metadata": {},
   "outputs": [
    {
     "name": "stdout",
     "output_type": "stream",
     "text": [
      "\"파일은 c:\\windows\\User\\내문서\\Python에 저장이 되어있습니다.\" \n",
      "나는 생각했다. \t'cd를 써서 igt bash로 들어가봐야지'\n"
     ]
    }
   ],
   "source": [
    "# 2\n",
    "# 2-1\n",
    "answer = '''\n",
    "\n",
    "\n",
    "'''\n",
    "\n",
    "# 2-2\n",
    "print(\"\\\"파일은 c:\\\\windows\\\\User\\\\내문서\\\\Python에 저장이 되어있습니다.\\\" \\n나는 생각했다. \\t\\'cd를 써서 igt bash로 들어가봐야지\\'\")\n",
    "\n"
   ]
  },
  {
   "cell_type": "code",
   "execution_count": null,
   "metadata": {},
   "outputs": [],
   "source": [
    "# 3 근의 공식\n",
    "# a^2x + bx + c\n",
    "\n",
    "a, b, c = 1, 4, -21\n",
    "\n",
    "x1 = (-b + (b**2 - 4*a*c)**(1/2)) / 2 * a\n",
    "x2 = (-b - (b**2 - 4*a*c)**(1/2)) / 2 * a\n",
    "\n",
    "print(x1, x2)"
   ]
  },
  {
   "cell_type": "code",
   "execution_count": null,
   "metadata": {},
   "outputs": [],
   "source": []
  },
  {
   "cell_type": "markdown",
   "metadata": {},
   "source": [
    "# day02 workshop"
   ]
  },
  {
   "cell_type": "code",
   "execution_count": null,
   "metadata": {},
   "outputs": [],
   "source": [
    "# 1\n",
    "n = 5\n",
    "m = 9\n",
    "\n",
    "for _ in range(m): # _ :약속, for문을 n번 돌리는데 의의가 있지 무엇인지 상관없을 때\n",
    "    for _ in range(n): # for n in range(m) 보다는\n",
    "        print('*', end='')\n",
    "    print()\n"
   ]
  },
  {
   "cell_type": "code",
   "execution_count": null,
   "metadata": {},
   "outputs": [],
   "source": [
    "# 2 딕셔너리 평균점수 구하기\n",
    "\n",
    "student = {'python': 80, 'algorithm': 99, 'django': 89, 'flask': 83}\n",
    "\n",
    "# sum = 0\n",
    "# for score in student.values():\n",
    "#      sum += score\n",
    "    \n",
    "# ave = sum/len(student)\n",
    "\n",
    "\n",
    "\n",
    "ave = sum(student.values()) / len(student)\n",
    "print(f'평균점수: {ave}')\n"
   ]
  },
  {
   "cell_type": "code",
   "execution_count": null,
   "metadata": {},
   "outputs": [],
   "source": [
    "# 다음은 여러 사람의 혈액형(A, B, AB, O)에 대한 데이터이다. 반복문을 사용하여\n",
    "# key는 혈액형의 종류, value는 인원 수인 딕셔너리를 만들고 출력하시오.\n",
    "\n",
    "blood_types =['A', 'B', 'A', 'O', 'AB', 'AB', 'O', 'A', 'B', 'O', 'B', 'AB',]\n",
    "# set(blood_types)\n",
    "\n",
    "def count(str):\n",
    "    cnt = 0\n",
    "    for b_type in blood_types:\n",
    "        if b_type == str:\n",
    "            cnt += 1\n",
    "    return cnt\n",
    "\n",
    "dic_blood_types = {}\n",
    "for str in set(blood_types):\n",
    "    dic_blood_types[str] = count(str)\n",
    "    \n",
    "    \n",
    "# dic_blood_types = {\n",
    "#         'A': count('A'),\n",
    "#         'B': count('B'),\n",
    "#         'O': count('O'),\n",
    "#         'AB': count('AB'),\n",
    "#     }\n",
    "\n",
    "print('dic_blood_types =', dic_blood_types)\n",
    "\n",
    "\n",
    "# cnt_a = cnt_b = cnt_o = cnt_ab = 0\n",
    "# for b_type in blood_types:\n",
    "#     if b_type == 'A':\n",
    "#         cnt_a += 1\n",
    "#     elif b_type == 'B':\n",
    "#         cnt_b += 1\n",
    "#     elif b_type == 'O':\n",
    "#         cnt_o += 1\n",
    "#     else:\n",
    "#         cnt_ab += 1\n",
    "# else:\n",
    "#     dic_blood_types = {\n",
    "#         'A': cnt_a,\n",
    "#         'B': cnt_b,\n",
    "#         'O': cnt_o,\n",
    "#         'AB': cnt_ab\n",
    "#     }\n",
    "\n",
    "# print('dic_blood_types =', dic_blood_types)\n"
   ]
  },
  {
   "cell_type": "code",
   "execution_count": null,
   "metadata": {},
   "outputs": [],
   "source": [
    "# 쌤 \n",
    "\n",
    "blood_types =['A', 'B', 'A', 'O', 'AB', 'AB', 'O', 'A', 'B', 'O', 'B', 'AB',]\n",
    "unique_blood_types = list(set(blood_types))\n",
    "count_dict = {}\n",
    "\n",
    "for u in unique_blood_types:\n",
    "    count_dict[u] = 0\n",
    "    \n",
    "for b in blood_types:\n",
    "    count_dict[b] += 1\n",
    "    \n",
    "print(count_dict)"
   ]
  },
  {
   "cell_type": "code",
   "execution_count": null,
   "metadata": {},
   "outputs": [],
   "source": [
    "blood_types =['A', 'B', 'A', 'O', 'AB', 'AB', 'O', 'A', 'B', 'O', 'B', 'AB',]\n",
    "count_dict = {}\n",
    "\n",
    "for b in blood_types:\n",
    "    if count_dict.get(b): # True/ False == None\n",
    "        count_dict[b] += 1\n",
    "    else:\n",
    "        count_dict[b] = 1"
   ]
  },
  {
   "cell_type": "code",
   "execution_count": null,
   "metadata": {},
   "outputs": [],
   "source": [
    "d = {}\n",
    "d['a'] = 'A'\n",
    "\n",
    "\n",
    "## 차이점 \n",
    "{'a': 'A'}['X'] # 에러메세지- 없는 것을 불러오라고 하니까 , 동작하지 않음\n",
    "print({'a': 'A'}.get('X')) # None이 반환 \n"
   ]
  },
  {
   "cell_type": "markdown",
   "metadata": {},
   "source": [
    "# day03 workshop"
   ]
  },
  {
   "cell_type": "code",
   "execution_count": null,
   "metadata": {},
   "outputs": [],
   "source": [
    "word = input('[Palindrome Test] 원하는 단어를 입력하세요.')\n",
    "\n",
    "def Palindrome(word):\n",
    "    word_rev = word[::-1]\n",
    "    if word == word_rev:\n",
    "        return True\n",
    "    else:\n",
    "        return False\n",
    "\n",
    "Palindrome(word)"
   ]
  },
  {
   "cell_type": "markdown",
   "metadata": {},
   "source": [
    "# day04 workshop"
   ]
  },
  {
   "cell_type": "code",
   "execution_count": 11,
   "metadata": {},
   "outputs": [
    {
     "name": "stdout",
     "output_type": "stream",
     "text": [
      "제곱근 근사값을 구하고 싶은 양의 정수를 입력하세요.530\n"
     ]
    },
    {
     "data": {
      "text/plain": [
       "23.02173"
      ]
     },
     "execution_count": 11,
     "metadata": {},
     "output_type": "execute_result"
    }
   ],
   "source": [
    "# ex) n=7\n",
    "\n",
    "# 1. n 값 앞뒤에 있는 완전제곱수 구하기 > n에 루트 씌워서 소수점 버리고 앞, 올림해서 뒤\n",
    "# 2. \n",
    "\n",
    "# if n 제곱 < 중간 숫자 제곱:\n",
    "#     이전 시작 범위 < n < 중간숫자 채택\n",
    "# else: (n 제곱 > 중간 숫자 제곱)\n",
    "#     중간숫자 < n < 이전 끝 채택\n",
    "    \n",
    "# if 소숫점 5째짜리까지 같으면 break\n",
    "# return 값\n",
    " \n",
    "# n = int(input())\n",
    "# sqrt_n = n ** 0.5\n",
    "# s = int(sqrt_n)\n",
    "# b = s + 1\n",
    "\n",
    "# for _ in range(20):\n",
    "#     if sqrt_n < (s+b)/2:\n",
    "#         b = (s+b)/2\n",
    "#     else:\n",
    "#         s = (s+b)/2\n",
    "    \n",
    "\n",
    "\n",
    "def bisection():\n",
    "    n = int(input('제곱근 근사값을 구하고 싶은 양의 정수를 입력하세요.'))\n",
    "    sqrt_n = n ** 0.5\n",
    "    s = int(sqrt_n)\n",
    "    b = s + 1\n",
    "    \n",
    "    while round(s, 5) != round(b, 5):\n",
    "        if sqrt_n < (s+b)/2:\n",
    "            b = (s+b)/2\n",
    "        else:\n",
    "            s = (s+b)/2\n",
    "    result = round(s, 5)\n",
    "    return result\n",
    "\n",
    "bisection()"
   ]
  },
  {
   "cell_type": "code",
   "execution_count": null,
   "metadata": {},
   "outputs": [],
   "source": [
    "# 쌤\n",
    "\n",
    "def bisection(n, minimum=0, maximum=1):\n",
    "    while not math.isclose(minimum, maximum):\n",
    "        if minimum ** 2 == n:\n",
    "            return minmum\n",
    "        elif maximum ** 2 == n:\n",
    "            return maximum\n",
    "        elif minimum ** 2 < n < maximum ** 2:\n",
    "            guess = (minimum + maximum) / 2\n",
    "            if n > guess ** 2:\n",
    "                minimum = guess\n",
    "            else:\n",
    "                maximum = guess\n",
    "        else:\n",
    "            minimum, maximum = maximum, maximum + 1\n",
    "    return minimum"
   ]
  },
  {
   "cell_type": "code",
   "execution_count": null,
   "metadata": {},
   "outputs": [],
   "source": [
    "import math\n",
    "\n",
    "def bis(n, minimum=0, maximum=1):\n",
    "    if minimum ** 2 == n:\n",
    "        return minmum\n",
    "    elif maximum ** 2 == n:\n",
    "        return maximum\n",
    "    elif math.isclose(minimum, maximum):\n",
    "        return minimum\n",
    "\n",
    "    if minimum ** 2 < n < maximum ** 2:\n",
    "        guess = (minimum + maximum) / 2\n",
    "        if n < guess ** 2:\n",
    "            return bis(n, minimum, guess)\n",
    "        else:\n",
    "            return bis(n, guess, maximum)\n",
    "    else:\n",
    "        minimum, maximum = maximum, maximum + 1\n",
    "        return bis(n, minimum, maximum)\n",
    "\n",
    "print(bis(34), 34 ** (1/2))"
   ]
  },
  {
   "cell_type": "code",
   "execution_count": 15,
   "metadata": {},
   "outputs": [
    {
     "ename": "TypeError",
     "evalue": "'a' is an invalid keyword argument for print()",
     "output_type": "error",
     "traceback": [
      "\u001b[1;31m---------------------------------------------------------------------------\u001b[0m",
      "\u001b[1;31mTypeError\u001b[0m                                 Traceback (most recent call last)",
      "\u001b[1;32m<ipython-input-15-a3e48715618b>\u001b[0m in \u001b[0;36m<module>\u001b[1;34m\u001b[0m\n\u001b[0;32m      2\u001b[0m \u001b[0mb\u001b[0m \u001b[1;33m=\u001b[0m \u001b[1;36m0.3\u001b[0m\u001b[1;33m\u001b[0m\u001b[1;33m\u001b[0m\u001b[0m\n\u001b[0;32m      3\u001b[0m \u001b[1;33m\u001b[0m\u001b[0m\n\u001b[1;32m----> 4\u001b[1;33m \u001b[0mprint\u001b[0m\u001b[1;33m(\u001b[0m\u001b[0ma\u001b[0m \u001b[1;33m=\u001b[0m \u001b[0mb\u001b[0m\u001b[1;33m)\u001b[0m\u001b[1;33m\u001b[0m\u001b[1;33m\u001b[0m\u001b[0m\n\u001b[0m\u001b[0;32m      5\u001b[0m \u001b[1;31m# print(type(a), type(b), a = b)\u001b[0m\u001b[1;33m\u001b[0m\u001b[1;33m\u001b[0m\u001b[1;33m\u001b[0m\u001b[0m\n",
      "\u001b[1;31mTypeError\u001b[0m: 'a' is an invalid keyword argument for print()"
     ]
    }
   ],
   "source": [
    "a = 0.1 * 3\n",
    "b = 0.3\n",
    "\n",
    "print(a = b)\n",
    "# print(type(a), type(b), a = b)"
   ]
  },
  {
   "cell_type": "markdown",
   "metadata": {},
   "source": [
    "# day05 workshop"
   ]
  },
  {
   "cell_type": "code",
   "execution_count": null,
   "metadata": {},
   "outputs": [],
   "source": [
    "#calc.py\n",
    "\n",
    "def add(n1, n2):\n",
    "    result = n1 + n2\n",
    "    return result\n",
    "\n",
    "\n",
    "def sub(n1, n2):\n",
    "    result = n1 - n2 if n1 > n2 else n2 - n1\n",
    "    return result\n",
    "\n",
    "\n",
    "def multi(n1, n2):\n",
    "    result = n1 * n2\n",
    "    return result\n",
    "\n",
    "\n",
    "def div(n1, n2):\n",
    "    try:\n",
    "        result = n1 / n2\n",
    "    except ZeroDivisionError as err:\n",
    "        print('0으로는 나눌 수 없습니다.') # return '0으로 나눌 수 없음'\n",
    "    else:\n",
    "        return result"
   ]
  },
  {
   "cell_type": "code",
   "execution_count": null,
   "metadata": {},
   "outputs": [],
   "source": [
    "# execution_file.py\n",
    "import calc\n",
    "\n",
    "print(calc.add(45, 60))\n",
    "print(calc.sub(34, 90))\n",
    "print(calc.div(4, 0))\n",
    "print(calc.multi(4, 69))"
   ]
  },
  {
   "cell_type": "markdown",
   "metadata": {},
   "source": [
    "# day06 workshop"
   ]
  },
  {
   "cell_type": "code",
   "execution_count": 2,
   "metadata": {},
   "outputs": [],
   "source": [
    "# 아래와 같은 클래스 Circle이 있을 때,\n",
    "# 반지름이 3이고x, y좌표가 (2,4)인 원을 만들어 넓이와 둘레를 출력하시오.\n",
    "\n",
    "class Circle:\n",
    "    pi = 3.14\n",
    "    x = 0\n",
    "    y = 0\n",
    "    r = 0\n",
    "    \n",
    "    def __init__(self, r, x, y):\n",
    "        self.r = r\n",
    "        self.x = x\n",
    "        self.y = y\n",
    "        print(f'응애! 나는 반지름이 {self.r}인 New Circle이야')\n",
    "        \n",
    "    def area(self):\n",
    "        return Circle.pi * self.r**2\n",
    "    \n",
    "    def circumference(self):\n",
    "        return 2 * Circle.pi * self.r\n",
    "    \n",
    "    def center(self):\n",
    "        return self.x, self.y\n",
    "        # return x, y 라고 작성하면 함수 내부에서 우선 x, y를 찾고 글로벌 영역에서\n",
    "        # 찾을 것임. \n",
    "        # return Circle.x, Circle.y 는 가능하다.\n",
    "    \n",
    "    def move(self, input_x, input_y):\n",
    "        self.x, self.y = input_x, input_y\n",
    "        return self.x, self.y"
   ]
  },
  {
   "cell_type": "code",
   "execution_count": 3,
   "metadata": {
    "scrolled": true
   },
   "outputs": [
    {
     "name": "stdout",
     "output_type": "stream",
     "text": [
      "응애! 나는 반지름이 3인 New Circle이야\n"
     ]
    }
   ],
   "source": [
    "circle1 = Circle(3, 2, 4)"
   ]
  },
  {
   "cell_type": "code",
   "execution_count": 4,
   "metadata": {},
   "outputs": [
    {
     "data": {
      "text/plain": [
       "28.26"
      ]
     },
     "execution_count": 4,
     "metadata": {},
     "output_type": "execute_result"
    }
   ],
   "source": [
    "circle1.area()"
   ]
  },
  {
   "cell_type": "code",
   "execution_count": 5,
   "metadata": {},
   "outputs": [
    {
     "data": {
      "text/plain": [
       "18.84"
      ]
     },
     "execution_count": 5,
     "metadata": {},
     "output_type": "execute_result"
    }
   ],
   "source": [
    "circle1.circumference()"
   ]
  },
  {
   "cell_type": "code",
   "execution_count": 6,
   "metadata": {
    "scrolled": true
   },
   "outputs": [
    {
     "data": {
      "text/plain": [
       "(2, 4)"
      ]
     },
     "execution_count": 6,
     "metadata": {},
     "output_type": "execute_result"
    }
   ],
   "source": [
    "circle1.center()"
   ]
  },
  {
   "cell_type": "markdown",
   "metadata": {},
   "source": [
    "# day07 workshop"
   ]
  },
  {
   "cell_type": "code",
   "execution_count": 7,
   "metadata": {},
   "outputs": [],
   "source": [
    "# 아래와 같은 Animal클래스가 있을때,\n",
    "# 해당클래스를 상속받아 아래보기와 같이 동작하는 Dog클래스와 Bird클래스를 작성하시오.\n",
    "class Animal:\n",
    "    def __init__(self, name):\n",
    "        self.name = name\n",
    "        \n",
    "    def walk(self):\n",
    "        print(f'{self.name}! 걷는다!')\n",
    "        \n",
    "    def eat(self):\n",
    "        print(f'{self.name}! 먹는다!')\n"
   ]
  },
  {
   "cell_type": "code",
   "execution_count": 8,
   "metadata": {},
   "outputs": [],
   "source": [
    "class Dog(Animal):\n",
    "       \n",
    "    def walk(self):\n",
    "        print(f'{self.name}! 달린다!')\n",
    "        \n",
    "    def run(self):\n",
    "        print(f'{self.name}! 달린다!')\n",
    "\n",
    "dog = Dog('멍멍이')"
   ]
  },
  {
   "cell_type": "code",
   "execution_count": 9,
   "metadata": {},
   "outputs": [],
   "source": [
    "class Bird(Animal):\n",
    "       \n",
    "    def fly(self):\n",
    "        print(f'{self.name}! 푸드덕!')\n",
    "        \n",
    "bird = Bird('구구') "
   ]
  },
  {
   "cell_type": "code",
   "execution_count": 12,
   "metadata": {
    "scrolled": false
   },
   "outputs": [
    {
     "name": "stdout",
     "output_type": "stream",
     "text": [
      "멍멍이! 달린다!\n",
      "멍멍이! 달린다!\n",
      "\n",
      "구구! 걷는다!\n",
      "구구! 먹는다!\n",
      "구구! 푸드덕!\n"
     ]
    }
   ],
   "source": [
    "dog.walk()\n",
    "dog.run()\n",
    "print()\n",
    "bird.walk()\n",
    "bird.eat()\n",
    "bird.fly()"
   ]
  },
  {
   "cell_type": "code",
   "execution_count": 16,
   "metadata": {},
   "outputs": [
    {
     "name": "stdout",
     "output_type": "stream",
     "text": [
      "[10, 9, 8, 7, 5, 6, 3, 2, 4]\n",
      "[10, 8, 5, 3, 4]\n"
     ]
    }
   ],
   "source": [
    "list = [4, 2, 3, 6, 5, 7, 8, 9, 10]\n",
    "\n",
    "print(list[::-1])\n",
    "print(list[::-2])"
   ]
  },
  {
   "cell_type": "code",
   "execution_count": null,
   "metadata": {},
   "outputs": [],
   "source": []
  },
  {
   "cell_type": "code",
   "execution_count": 19,
   "metadata": {},
   "outputs": [
    {
     "name": "stdout",
     "output_type": "stream",
     "text": [
      "[1, 2, 3, 4]\n",
      "None\n"
     ]
    }
   ],
   "source": [
    "my_list = [1, 2, 3]\n",
    "\n",
    "a = my_list.append(4)\n",
    "print(my_list)\n",
    "print(a)"
   ]
  },
  {
   "cell_type": "code",
   "execution_count": 28,
   "metadata": {},
   "outputs": [
    {
     "name": "stdout",
     "output_type": "stream",
     "text": [
      "HOME SWEET HOME home sweet home\n"
     ]
    }
   ],
   "source": [
    "words = 'home sweet home'\n",
    "\n",
    "a = words.upper()\n",
    "words\n",
    "print(a, words)"
   ]
  }
 ],
 "metadata": {
  "kernelspec": {
   "display_name": "Python 3",
   "language": "python",
   "name": "python3"
  },
  "language_info": {
   "codemirror_mode": {
    "name": "ipython",
    "version": 3
   },
   "file_extension": ".py",
   "mimetype": "text/x-python",
   "name": "python",
   "nbconvert_exporter": "python",
   "pygments_lexer": "ipython3",
   "version": "3.7.3"
  }
 },
 "nbformat": 4,
 "nbformat_minor": 2
}
