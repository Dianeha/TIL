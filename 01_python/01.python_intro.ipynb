{
 "cells": [
  {
   "cell_type": "markdown",
   "metadata": {},
   "source": [
    "# Python 기초\n",
    "\n",
    "## 개요\n",
    "\n",
    "본 강의 자료는 [Python 공식 Tutorial](https://docs.python.org/3.6/tutorial/index.html)에 근거하여 만들어졌으며, Python 3.6버전에 해당하는 내용을 담고 있습니다.\n",
    "\n",
    "또한, 파이썬에서 제공하는 스타일 가이드인 [`PEP-8`](https://www.python.org/dev/peps/pep-0008/) 내용을 반영하였습니다. \n",
    "\n",
    "파이썬을 활용하는 다양한 IT기업들은 대내외적으로 본인들의 스타일 가이드를 제공하고 있습니다. \n",
    "\n",
    "* [구글 스타일 가이드](https://github.com/google/styleguide/blob/gh-pages/pyguide.md)\n",
    "* [Tensorflow 스타일 가이드](https://www.tensorflow.org/community/style_guide)"
   ]
  },
  {
   "cell_type": "markdown",
   "metadata": {},
   "source": [
    "## 식별자\n",
    "\n",
    "파이썬에서 식별자는 변수, 함수, 모듈, 클래스 등을 식별하는데 사용되는 (변수)이름이다. \n",
    "\n",
    "* 식별자의 이름은 영문알파벳, \\_, 숫자로 구성된다.\n",
    "* 첫 글자에 숫자가 올 수 없다. \n",
    "* 대소문자를 구별한다.\n",
    "* 아래의 예약어는 사용할 수 없다. \n",
    "\n",
    "```\n",
    "False, None, True, and, as, assert, break, class, continue, def, del, elif, else, except, finally, for, from, global, if, import, in, is, lambda, nonlocal, not, or, pass, raise, return, try, while, with, yield\n",
    "```"
   ]
  },
  {
   "cell_type": "code",
   "execution_count": 1,
   "metadata": {},
   "outputs": [
    {
     "name": "stdout",
     "output_type": "stream",
     "text": [
      "['False', 'None', 'True', 'and', 'as', 'assert', 'async', 'await', 'break', 'class', 'continue', 'def', 'del', 'elif', 'else', 'except', 'finally', 'for', 'from', 'global', 'if', 'import', 'in', 'is', 'lambda', 'nonlocal', 'not', 'or', 'pass', 'raise', 'return', 'try', 'while', 'with', 'yield']\n"
     ]
    }
   ],
   "source": [
    "# 식별자들을 직접 확인해봅시다.\n",
    "import keyword\n",
    "\n",
    "print(keyword.kwlist)"
   ]
  },
  {
   "cell_type": "markdown",
   "metadata": {},
   "source": [
    "*  내장함수나 모듈 등의 이름으로도 만들면 안된다."
   ]
  },
  {
   "cell_type": "code",
   "execution_count": 3,
   "metadata": {},
   "outputs": [
    {
     "data": {
      "text/plain": [
       "'5'"
      ]
     },
     "execution_count": 3,
     "metadata": {},
     "output_type": "execute_result"
    }
   ],
   "source": [
    "# 5를 string으로 바꿔봅시다.\n",
    "str(5)"
   ]
  },
  {
   "cell_type": "code",
   "execution_count": 4,
   "metadata": {},
   "outputs": [
    {
     "ename": "TypeError",
     "evalue": "'str' object is not callable",
     "output_type": "error",
     "traceback": [
      "\u001b[1;31m---------------------------------------------------------------------------\u001b[0m",
      "\u001b[1;31mTypeError\u001b[0m                                 Traceback (most recent call last)",
      "\u001b[1;32m<ipython-input-4-a2c4f0596748>\u001b[0m in \u001b[0;36m<module>\u001b[1;34m\u001b[0m\n\u001b[0;32m      1\u001b[0m \u001b[1;31m# 예시로 str에 값을 할당해보고, 오류를 확인해봅시다.\u001b[0m\u001b[1;33m\u001b[0m\u001b[1;33m\u001b[0m\u001b[1;33m\u001b[0m\u001b[0m\n\u001b[0;32m      2\u001b[0m \u001b[0mstr\u001b[0m \u001b[1;33m=\u001b[0m \u001b[1;34m'hi'\u001b[0m\u001b[1;33m\u001b[0m\u001b[1;33m\u001b[0m\u001b[0m\n\u001b[1;32m----> 3\u001b[1;33m \u001b[0mstr\u001b[0m\u001b[1;33m(\u001b[0m\u001b[1;36m5\u001b[0m\u001b[1;33m)\u001b[0m\u001b[1;33m\u001b[0m\u001b[1;33m\u001b[0m\u001b[0m\n\u001b[0m",
      "\u001b[1;31mTypeError\u001b[0m: 'str' object is not callable"
     ]
    }
   ],
   "source": [
    "# 예시로 str에 값을 할당해보고, 오류를 확인해봅시다.\n",
    "str = 'hi'\n",
    "str(5)"
   ]
  },
  {
   "cell_type": "code",
   "execution_count": 5,
   "metadata": {},
   "outputs": [],
   "source": [
    "# 뒤에 코드에 영향이 가니까 변수를 메모리에서 지워줍시다!!!!\n",
    "del str"
   ]
  },
  {
   "cell_type": "markdown",
   "metadata": {},
   "source": [
    "## 기초 문법\n",
    "\n",
    "### 인코딩 선언\n",
    "\n",
    "인코딩은 선언하지 않더라도 `UTF-8`로 기본 설정이 되어 있다. \n",
    "\n",
    "만약, 인코딩을 설정하려면 코드 상단에 아래와 같이 선언한다. \n",
    "주석으로 보이지만, Python `parser`에 의해 읽혀진다.\n",
    "\n",
    "```python\n",
    "# -*- coding: <encoding-name> -*- \n",
    "```"
   ]
  },
  {
   "cell_type": "markdown",
   "metadata": {},
   "source": [
    "### 주석(Comment)\n",
    "\n",
    "* 주석은 `#`으로 표현한다. \n",
    "* `docstring`은 `\"\"\"`으로 표현한다. \n",
    "   \n",
    "   : 여러 줄의 주석을 작성할 수 있으며, 보통 함수/클래스 선언 다음에 해당하는 설명을 위해 활용한다.\n",
    "   \n",
    "  \n",
    "* 예시 : flask 공식 문서 일부 발췌\n",
    "\n",
    "![flask 공식문서 예시](./images/01/docstring.png)"
   ]
  },
  {
   "cell_type": "code",
   "execution_count": 5,
   "metadata": {},
   "outputs": [],
   "source": [
    "# 주석을 연습해봅시다. \n",
    "\n",
    "def my_func(a, b):\n",
    "    # 이것은 주석\n",
    "    \"\"\" 이것은 제가 만든 함수입니다.\n",
    "    이 줄도 코드에 영향을 주지 않습니다.\n",
    "    하지만 이름이 Docstring인 것에는 이유가 있습니다.    \n",
    "    \"\"\"\n",
    "    pass"
   ]
  },
  {
   "cell_type": "code",
   "execution_count": 7,
   "metadata": {},
   "outputs": [
    {
     "name": "stdout",
     "output_type": "stream",
     "text": [
      " 이것은 제가 만든 함수입니다.\n",
      "    이 줄도 코드에 영향을 주지 않습니다.\n",
      "    하지만 이름이 Docstring인 것에는 이유가 있습니다.    \n",
      "    \n"
     ]
    },
    {
     "data": {
      "text/plain": [
       "2"
      ]
     },
     "execution_count": 7,
     "metadata": {},
     "output_type": "execute_result"
    }
   ],
   "source": [
    "# docstring은 다음과 같이 확인할 수 있습니다.\n",
    "print(my_func.__doc__)\n",
    "1+1"
   ]
  },
  {
   "cell_type": "markdown",
   "metadata": {},
   "source": [
    "### 코드 라인\n",
    "* 기본적으로 파이썬에서는 `;` 을 작성하지 않는다.\n",
    "\n",
    "* 한 줄로 표기할 떄는 `;`를 작성하여 표기할 수 있다. "
   ]
  },
  {
   "cell_type": "code",
   "execution_count": 6,
   "metadata": {},
   "outputs": [
    {
     "name": "stdout",
     "output_type": "stream",
     "text": [
      "Happy\n",
      "Hacking\n"
     ]
    }
   ],
   "source": [
    "# print문을 두번 써보자.\n",
    "print('Happy')\n",
    "print('Hacking')"
   ]
  },
  {
   "cell_type": "code",
   "execution_count": 8,
   "metadata": {},
   "outputs": [
    {
     "ename": "SyntaxError",
     "evalue": "invalid syntax (<ipython-input-8-e87ea41b8c08>, line 2)",
     "output_type": "error",
     "traceback": [
      "\u001b[1;36m  File \u001b[1;32m\"<ipython-input-8-e87ea41b8c08>\"\u001b[1;36m, line \u001b[1;32m2\u001b[0m\n\u001b[1;33m    print('Happy') print('Hacking')\u001b[0m\n\u001b[1;37m                       ^\u001b[0m\n\u001b[1;31mSyntaxError\u001b[0m\u001b[1;31m:\u001b[0m invalid syntax\n"
     ]
    }
   ],
   "source": [
    "# print문을 한줄로 이어서 써봅시다. 오류 메시지를 확인해주세요.\n",
    "print('Happy') print('Hacking')"
   ]
  },
  {
   "cell_type": "code",
   "execution_count": 9,
   "metadata": {},
   "outputs": [
    {
     "name": "stdout",
     "output_type": "stream",
     "text": [
      "Happy\n",
      "Hacking\n"
     ]
    }
   ],
   "source": [
    "# ;을 통해 오류를 해결해봅시다.\n",
    "print('Happy');print('Hacking')"
   ]
  },
  {
   "cell_type": "markdown",
   "metadata": {},
   "source": [
    "* 줄을 여러줄 작성할 때는 역슬래시`\\`를 사용하여 아래와 같이 할 수 있다. "
   ]
  },
  {
   "cell_type": "code",
   "execution_count": 10,
   "metadata": {},
   "outputs": [
    {
     "ename": "SyntaxError",
     "evalue": "EOL while scanning string literal (<ipython-input-10-6c0ed6233e47>, line 2)",
     "output_type": "error",
     "traceback": [
      "\u001b[1;36m  File \u001b[1;32m\"<ipython-input-10-6c0ed6233e47>\"\u001b[1;36m, line \u001b[1;32m2\u001b[0m\n\u001b[1;33m    print('Happy\u001b[0m\n\u001b[1;37m                ^\u001b[0m\n\u001b[1;31mSyntaxError\u001b[0m\u001b[1;31m:\u001b[0m EOL while scanning string literal\n"
     ]
    }
   ],
   "source": [
    "# print문을 통해 안되는 코드 예시 작성해봅시다.\n",
    "print('Happy\n",
    "      Hacking')"
   ]
  },
  {
   "cell_type": "code",
   "execution_count": 7,
   "metadata": {},
   "outputs": [
    {
     "name": "stdout",
     "output_type": "stream",
     "text": [
      "HappyHacking\n"
     ]
    }
   ],
   "source": [
    "# print문을 통해 되는 코드 예시 작성해봅시다.\n",
    "print('Happy\\\n",
    "Hacking')"
   ]
  },
  {
   "cell_type": "markdown",
   "metadata": {},
   "source": [
    "* `[]` `{}` `()`는 `\\` 없이도 가능하다."
   ]
  },
  {
   "cell_type": "code",
   "execution_count": 9,
   "metadata": {},
   "outputs": [
    {
     "name": "stdout",
     "output_type": "stream",
     "text": [
      "['짜장면', '짬뽕', '탕수육', '군만두']\n"
     ]
    }
   ],
   "source": [
    "# list를 두 줄에 걸쳐서 만들어봅시다.\n",
    "menus = [\n",
    "    '짜장면', '짬뽕', \n",
    "    '탕수육', '군만두'\n",
    "]\n",
    "print(menus)"
   ]
  },
  {
   "cell_type": "markdown",
   "metadata": {},
   "source": [
    "# 변수(variable) 및 자료형\n",
    "\n",
    "\n",
    "<center><img src=\"./images/01/variable.png\", alt=\"variable\"/></center>"
   ]
  },
  {
   "cell_type": "markdown",
   "metadata": {},
   "source": [
    "\n",
    "<center><img src=\"./images/01/box.png\", alt=\"box\"/></center>"
   ]
  },
  {
   "cell_type": "markdown",
   "metadata": {},
   "source": [
    "* 변수는 `=`을 통해 할당(assignment) 된다. \n",
    "\n",
    "* 해당 자료형을 확인하기 위해서는 `type()`을 활용한다.\n",
    "\n",
    "* 해당 변수의 메모리 주소(작업장)를 확인하기 위해서는 `id()`를 활용한다."
   ]
  },
  {
   "cell_type": "code",
   "execution_count": 14,
   "metadata": {},
   "outputs": [],
   "source": [
    "# 변수에 값을 할당해 봅시다.\n",
    "we = 'ssafy'"
   ]
  },
  {
   "cell_type": "code",
   "execution_count": 15,
   "metadata": {},
   "outputs": [
    {
     "data": {
      "text/plain": [
       "str"
      ]
     },
     "execution_count": 15,
     "metadata": {},
     "output_type": "execute_result"
    }
   ],
   "source": [
    "# type()을 사용해 봅시다.\n",
    "type(we)"
   ]
  },
  {
   "cell_type": "code",
   "execution_count": 16,
   "metadata": {},
   "outputs": [
    {
     "data": {
      "text/plain": [
       "2380673501368"
      ]
     },
     "execution_count": 16,
     "metadata": {},
     "output_type": "execute_result"
    }
   ],
   "source": [
    "# id()를 사용해 봅시다.\n",
    "id(we)"
   ]
  },
  {
   "cell_type": "markdown",
   "metadata": {},
   "source": [
    "* 같은 값을 동시에 할당할 수 있다."
   ]
  },
  {
   "cell_type": "code",
   "execution_count": 10,
   "metadata": {},
   "outputs": [
    {
     "name": "stdout",
     "output_type": "stream",
     "text": [
      "1004 1004 1004 1004\n",
      "2185640247152 2185640247152 2185640247248 2185640821552\n"
     ]
    }
   ],
   "source": [
    "# 같은 값을 동시에 할당해봅시다.\n",
    "x = 1004\n",
    "y = 1004\n",
    "\n",
    "a = b = 1004\n",
    "print(a, b, x, y)\n",
    "print(id(a), id(b), id(x), id(y))"
   ]
  },
  {
   "cell_type": "markdown",
   "metadata": {},
   "source": [
    "* 다른 값을 동시에 할당 가능하다."
   ]
  },
  {
   "cell_type": "code",
   "execution_count": 24,
   "metadata": {},
   "outputs": [
    {
     "name": "stdout",
     "output_type": "stream",
     "text": [
      "1 2 1 2\n"
     ]
    }
   ],
   "source": [
    "# 동시에 두개의 변수에 값 두개를 할당해봅시다.\n",
    "x = 1\n",
    "y = 2\n",
    "\n",
    "a, b = 1, 2\n",
    "print(x, y, a, b)"
   ]
  },
  {
   "cell_type": "code",
   "execution_count": 25,
   "metadata": {},
   "outputs": [
    {
     "ename": "TypeError",
     "evalue": "cannot unpack non-iterable int object",
     "output_type": "error",
     "traceback": [
      "\u001b[1;31m---------------------------------------------------------------------------\u001b[0m",
      "\u001b[1;31mTypeError\u001b[0m                                 Traceback (most recent call last)",
      "\u001b[1;32m<ipython-input-25-e79f419d1f6a>\u001b[0m in \u001b[0;36m<module>\u001b[1;34m\u001b[0m\n\u001b[0;32m      1\u001b[0m \u001b[1;31m# 변수의 갯수가 더 많을 때 오류를 알아봅시다.\u001b[0m\u001b[1;33m\u001b[0m\u001b[1;33m\u001b[0m\u001b[1;33m\u001b[0m\u001b[0m\n\u001b[1;32m----> 2\u001b[1;33m \u001b[0mx\u001b[0m\u001b[1;33m,\u001b[0m \u001b[0my\u001b[0m \u001b[1;33m=\u001b[0m \u001b[1;36m1\u001b[0m\u001b[1;33m\u001b[0m\u001b[1;33m\u001b[0m\u001b[0m\n\u001b[0m",
      "\u001b[1;31mTypeError\u001b[0m: cannot unpack non-iterable int object"
     ]
    }
   ],
   "source": [
    "# 변수의 갯수가 더 많을 때 오류를 알아봅시다.\n",
    "x, y = 1"
   ]
  },
  {
   "cell_type": "code",
   "execution_count": null,
   "metadata": {},
   "outputs": [],
   "source": [
    "# 변수의 갯수가 더 적을 때 오류를 알아봅시다.\n",
    "x, y = 1, 2, 3"
   ]
  },
  {
   "cell_type": "markdown",
   "metadata": {},
   "source": [
    "* 이를 활용하면 서로 값을 바꾸고 싶은 경우 아래와 같이 활용 가능하다."
   ]
  },
  {
   "cell_type": "code",
   "execution_count": 31,
   "metadata": {},
   "outputs": [
    {
     "name": "stdout",
     "output_type": "stream",
     "text": [
      "2 1\n",
      "1 2\n",
      "20 10\n"
     ]
    }
   ],
   "source": [
    "# 변수 x와 y의 값을 바꿔봅시다.\n",
    "print(x, y)\n",
    "x, y = y, x\n",
    "print(x, y)\n",
    "\n",
    "a = 10\n",
    "b = 20\n",
    "\n",
    "# 방법1\n",
    "tmp = a\n",
    "a = b\n",
    "b = tmp\n",
    "print(a, b)\n",
    "\n",
    "# 방법2 >> 똑같이 동작하지만 좀 더 좋은 코드\n",
    "a = a + b\n",
    "b = a - b\n",
    "a = a - b"
   ]
  },
  {
   "cell_type": "markdown",
   "metadata": {},
   "source": [
    "## 수치형(Numbers)\n",
    "\n",
    "###  `int` (정수)\n",
    "\n",
    "모든 정수는 `int`로 표현된다.\n",
    "\n",
    "파이썬 3.x 버전에서는 `long` 타입은 없고 모두 `int` 형으로 표기 된다.\n",
    "\n",
    "10진수가 아닌 8진수 : `0o`/2진수 : `0b` /16진수: `0x`로도 표현 가능하다. "
   ]
  },
  {
   "cell_type": "code",
   "execution_count": 32,
   "metadata": {},
   "outputs": [
    {
     "name": "stdout",
     "output_type": "stream",
     "text": [
      "<class 'int'>\n",
      "<class 'int'>\n"
     ]
    }
   ],
   "source": [
    "# 변수에 정수를 넣고 해당 변수의 type을 알아봅시다.\n",
    "print(type(1))\n",
    "\n",
    "a = 10\n",
    "print(type(a))"
   ]
  },
  {
   "cell_type": "markdown",
   "metadata": {},
   "source": [
    "### 오버플로우 (overflow)\n",
    "* 데이터 타입별로 사용할 수 있는 메모리의 크기가 제한되어 있다.\n",
    "* 표현할 수 있는 수의 범위를 넘어가면, 예상한 값이 아닌 이상한 값이 출력된다.\n",
    "* 즉 메모리에 담을 수 있는 크기보다 넘친(overflow) 현상\n",
    "\n",
    "### arbitrary-precision arithmatic - Python\n",
    "* 파이썬은 아주 큰 정수를 표현할 떄, 메모리 크기가 임의로 변화한다.\n",
    "* 사용 가능한 메모리 크기가 정해져 있는 기존 방식과 달리, 남아있는 만큼의 가용메모리를 모두 수 표현에 끌어다 쓸 수 있는 형태\n",
    "* 4바이트 제한이있지만, 필요하다면 5, 6바이트로 유동적 운용 가능"
   ]
  },
  {
   "cell_type": "code",
   "execution_count": 35,
   "metadata": {},
   "outputs": [
    {
     "name": "stdout",
     "output_type": "stream",
     "text": [
      "9223372036854775807\n"
     ]
    },
    {
     "data": {
      "text/plain": [
       "85070591730234615847396907784232501249"
      ]
     },
     "execution_count": 35,
     "metadata": {},
     "output_type": "execute_result"
    }
   ],
   "source": [
    "# 파이썬에서 가장 큰 숫자를 활용하기 위해 sys 모듈을 불러옵니다.\n",
    "# 파이썬은 기존 C 계열 프로그래밍 언어와 다르게 정수 자료형에서 오버플로우가 없다.\n",
    "# arbitrary-precision arithmetic를 사용하기 때문이다. \n",
    "\n",
    "import sys\n",
    "\n",
    "max_int = sys.maxsize\n",
    "print(max_int)\n",
    "2 ** 63 - 1\n",
    "max_int * max_int"
   ]
  },
  {
   "cell_type": "code",
   "execution_count": 38,
   "metadata": {},
   "outputs": [
    {
     "name": "stdout",
     "output_type": "stream",
     "text": [
      "2\n",
      "8\n",
      "10\n",
      "16\n"
     ]
    }
   ],
   "source": [
    "# n진수를 만들어보고, 출력 해봅시다.\n",
    "binary_number = 0b10 #2\n",
    "octal_number = 0o10 #8\n",
    "decimal_number = 10 #10\n",
    "hexadecimal_number = 0x10 #16\n",
    "\n",
    "print(binary_number)\n",
    "print(octal_number)\n",
    "print(decimal_number)\n",
    "print(hexadecimal_number)"
   ]
  },
  {
   "cell_type": "markdown",
   "metadata": {},
   "source": [
    "### `float`(부동소수점, 실수)\n",
    "\n",
    "실수는 `float`로 표현된다. \n",
    "\n",
    "다만, 실수를 컴퓨터가 표현하는 과정에서 부동소수점을 사용하며, 항상 같은 값으로 일치되지 않는다. (floating point rounding error)\n",
    "\n",
    "이는 컴퓨터가 2진수(비트)를 통해 숫자를 표현하는 과정에서 생기는 오류이며, 대부분의 경우는 중요하지 않으나 값을 같은지 비교하는 과정에서 문제가 발생할 수 있다."
   ]
  },
  {
   "cell_type": "code",
   "execution_count": 42,
   "metadata": {},
   "outputs": [
    {
     "name": "stdout",
     "output_type": "stream",
     "text": [
      "<class 'float'>\n"
     ]
    },
    {
     "data": {
      "text/plain": [
       "float"
      ]
     },
     "execution_count": 42,
     "metadata": {},
     "output_type": "execute_result"
    }
   ],
   "source": [
    "# 변수에 실수를 넣고 해당 변수의 type을 알아봅시다.\n",
    "a = 3.14\n",
    "print(type(a))\n",
    "type(a)"
   ]
  },
  {
   "cell_type": "code",
   "execution_count": 46,
   "metadata": {},
   "outputs": [
    {
     "data": {
      "text/plain": [
       "0.0314"
      ]
     },
     "execution_count": 46,
     "metadata": {},
     "output_type": "execute_result"
    }
   ],
   "source": [
    "# e를 사용할 수도 있습니다.\n",
    "b = 3.14e-2\n",
    "b"
   ]
  },
  {
   "cell_type": "markdown",
   "metadata": {},
   "source": [
    "* 실수의 경우 실제로 값을 처리하기 위해서는 조심할 필요가 있다."
   ]
  },
  {
   "cell_type": "code",
   "execution_count": 47,
   "metadata": {},
   "outputs": [
    {
     "data": {
      "text/plain": [
       "8.7"
      ]
     },
     "execution_count": 47,
     "metadata": {},
     "output_type": "execute_result"
    }
   ],
   "source": [
    "# 실수의 덧셈을 해봅시다.\n",
    "3.5 + 5.2"
   ]
  },
  {
   "cell_type": "code",
   "execution_count": 50,
   "metadata": {},
   "outputs": [
    {
     "data": {
      "text/plain": [
       "0.3799999999999999"
      ]
     },
     "execution_count": 50,
     "metadata": {},
     "output_type": "execute_result"
    }
   ],
   "source": [
    "# 실수의 뺄셈을 해봅시다.\n",
    "3.5 - 3.12"
   ]
  },
  {
   "cell_type": "code",
   "execution_count": 4,
   "metadata": {},
   "outputs": [
    {
     "data": {
      "text/plain": [
       "0.38"
      ]
     },
     "execution_count": 4,
     "metadata": {},
     "output_type": "execute_result"
    }
   ],
   "source": [
    "# 우리가 원하는대로 반올림을 해봅시다.\n",
    "round(3.5 - 3.12, 2)"
   ]
  },
  {
   "cell_type": "code",
   "execution_count": 53,
   "metadata": {},
   "outputs": [
    {
     "data": {
      "text/plain": [
       "False"
      ]
     },
     "execution_count": 53,
     "metadata": {},
     "output_type": "execute_result"
    }
   ],
   "source": [
    "# 두 개의 값이 같은지 확인해봅시다.\n",
    "3.5 - 3.12 == 0.38"
   ]
  },
  {
   "cell_type": "markdown",
   "metadata": {},
   "source": [
    "* 따라서 다음과 같은 방법으로 처리 할 수 있다. 이외에 다양한 방법이 있음"
   ]
  },
  {
   "cell_type": "code",
   "execution_count": 57,
   "metadata": {},
   "outputs": [
    {
     "name": "stdout",
     "output_type": "stream",
     "text": [
      "대충 같다\n"
     ]
    }
   ],
   "source": [
    "# 기본적인 처리방법을 알아봅시다.\n",
    "a = 3.5 - 3.12\n",
    "b = 0.38\n",
    "\n",
    "if a==b:\n",
    "    print('완전히 같다')\n",
    "\n",
    "if abs(a - b) <= 1e-10:\n",
    "    print('대충 같다')"
   ]
  },
  {
   "cell_type": "code",
   "execution_count": 58,
   "metadata": {},
   "outputs": [
    {
     "name": "stdout",
     "output_type": "stream",
     "text": [
      "대충 같다\n"
     ]
    }
   ],
   "source": [
    "# sys 모듈을 통해 처리하는 방법을 알아봅시다.\n",
    "if abs(a - b) <= sys.float_info.epsilon:\n",
    "    print('대충 같다')"
   ]
  },
  {
   "cell_type": "code",
   "execution_count": 60,
   "metadata": {},
   "outputs": [
    {
     "data": {
      "text/plain": [
       "True"
      ]
     },
     "execution_count": 60,
     "metadata": {},
     "output_type": "execute_result"
    }
   ],
   "source": [
    "# python 3.5부터 활용 가능한 math 모듈을 통해 처리하는 법을 알아봅시다.\n",
    "import math\n",
    "math.isclose(a, b)"
   ]
  },
  {
   "cell_type": "markdown",
   "metadata": {},
   "source": [
    "### `complex` (복소수)\n",
    "\n",
    "복소수는 허수부를 `j`로 표현한다. "
   ]
  },
  {
   "cell_type": "code",
   "execution_count": 62,
   "metadata": {},
   "outputs": [
    {
     "name": "stdout",
     "output_type": "stream",
     "text": [
      "(-4+0j)\n"
     ]
    },
    {
     "data": {
      "text/plain": [
       "complex"
      ]
     },
     "execution_count": 62,
     "metadata": {},
     "output_type": "execute_result"
    }
   ],
   "source": [
    "# 변수에 복소수를 넣고 해당 변수의 type을 알아봅시다.\n",
    "print(2j ** 2)\n",
    "\n",
    "a = 3 - 4j\n",
    "type(a)\n"
   ]
  },
  {
   "cell_type": "code",
   "execution_count": 63,
   "metadata": {},
   "outputs": [
    {
     "name": "stdout",
     "output_type": "stream",
     "text": [
      "-4.0\n",
      "3.0\n",
      "(3+4j)\n"
     ]
    }
   ],
   "source": [
    "# 복소수와 관련된 메소드들을 확인해봅시다.\n",
    "print(a.imag)\n",
    "print(a.real)\n",
    "print(a.conjugate()) # 켤레복소수"
   ]
  },
  {
   "cell_type": "markdown",
   "metadata": {},
   "source": [
    "## Bool\n",
    "\n",
    "파이썬에는 True와 False로 이뤄진 bool 타입이 있다.\n",
    "\n",
    "비교/논리 연산을 수행 등에서 활용된다.\n",
    "\n",
    "다음은 `False`로 변환됩니다.\n",
    "\n",
    "```\n",
    "0, 0.0, (), [], {}, '', None\n",
    "```"
   ]
  },
  {
   "cell_type": "code",
   "execution_count": 64,
   "metadata": {},
   "outputs": [
    {
     "name": "stdout",
     "output_type": "stream",
     "text": [
      "<class 'bool'>\n",
      "<class 'bool'>\n"
     ]
    }
   ],
   "source": [
    "# True와 False의 타입들을 알아봅시다.\n",
    "print(type(True))\n",
    "print(type(False))"
   ]
  },
  {
   "cell_type": "markdown",
   "metadata": {},
   "source": [
    "* 형변환(Type Conversion)에서 추가적으로 다루는 내용입니다."
   ]
  },
  {
   "cell_type": "code",
   "execution_count": null,
   "metadata": {},
   "outputs": [],
   "source": [
    "# 다양한 True, False 상황들을 확인해봅시다."
   ]
  },
  {
   "cell_type": "code",
   "execution_count": 65,
   "metadata": {},
   "outputs": [
    {
     "data": {
      "text/plain": [
       "False"
      ]
     },
     "execution_count": 65,
     "metadata": {},
     "output_type": "execute_result"
    }
   ],
   "source": [
    "bool(0) #0, 0.0 > False"
   ]
  },
  {
   "cell_type": "code",
   "execution_count": 66,
   "metadata": {},
   "outputs": [
    {
     "data": {
      "text/plain": [
       "True"
      ]
     },
     "execution_count": 66,
     "metadata": {},
     "output_type": "execute_result"
    }
   ],
   "source": [
    "bool(1) # 0이 아닌 모든 값이 True"
   ]
  },
  {
   "cell_type": "code",
   "execution_count": 68,
   "metadata": {},
   "outputs": [
    {
     "data": {
      "text/plain": [
       "False"
      ]
     },
     "execution_count": 68,
     "metadata": {},
     "output_type": "execute_result"
    }
   ],
   "source": [
    "bool([]) # (), [], {} 모두 안에 요소가 없으면 False "
   ]
  },
  {
   "cell_type": "code",
   "execution_count": 69,
   "metadata": {},
   "outputs": [
    {
     "data": {
      "text/plain": [
       "False"
      ]
     },
     "execution_count": 69,
     "metadata": {},
     "output_type": "execute_result"
    }
   ],
   "source": [
    "bool({True}) # 있으면 True"
   ]
  },
  {
   "cell_type": "code",
   "execution_count": 71,
   "metadata": {},
   "outputs": [
    {
     "data": {
      "text/plain": [
       "False"
      ]
     },
     "execution_count": 71,
     "metadata": {},
     "output_type": "execute_result"
    }
   ],
   "source": [
    "bool('') # 없으면 False"
   ]
  },
  {
   "cell_type": "code",
   "execution_count": 72,
   "metadata": {},
   "outputs": [
    {
     "data": {
      "text/plain": [
       "True"
      ]
     },
     "execution_count": 72,
     "metadata": {},
     "output_type": "execute_result"
    }
   ],
   "source": [
    "bool(' ') # 있으면 True"
   ]
  },
  {
   "cell_type": "code",
   "execution_count": 74,
   "metadata": {},
   "outputs": [
    {
     "data": {
      "text/plain": [
       "False"
      ]
     },
     "execution_count": 74,
     "metadata": {},
     "output_type": "execute_result"
    }
   ],
   "source": [
    "bool(None)"
   ]
  },
  {
   "cell_type": "markdown",
   "metadata": {},
   "source": [
    "## None\n",
    "\n",
    "파이썬에서는 값이 없음을 표현하기 위해 `None`타입이 존재합니다."
   ]
  },
  {
   "cell_type": "code",
   "execution_count": 73,
   "metadata": {},
   "outputs": [
    {
     "data": {
      "text/plain": [
       "NoneType"
      ]
     },
     "execution_count": 73,
     "metadata": {},
     "output_type": "execute_result"
    }
   ],
   "source": [
    "# None의 타입을 알아봅시다.\n",
    "type(None)"
   ]
  },
  {
   "cell_type": "code",
   "execution_count": 76,
   "metadata": {},
   "outputs": [
    {
     "name": "stdout",
     "output_type": "stream",
     "text": [
      "None\n"
     ]
    },
    {
     "ename": "NameError",
     "evalue": "name 'asdf' is not defined",
     "output_type": "error",
     "traceback": [
      "\u001b[1;31m---------------------------------------------------------------------------\u001b[0m",
      "\u001b[1;31mNameError\u001b[0m                                 Traceback (most recent call last)",
      "\u001b[1;32m<ipython-input-76-5fb6989aba82>\u001b[0m in \u001b[0;36m<module>\u001b[1;34m\u001b[0m\n\u001b[0;32m      3\u001b[0m \u001b[0mprint\u001b[0m\u001b[1;33m(\u001b[0m\u001b[0masdf\u001b[0m\u001b[1;33m)\u001b[0m\u001b[1;33m\u001b[0m\u001b[1;33m\u001b[0m\u001b[0m\n\u001b[0;32m      4\u001b[0m \u001b[1;32mdel\u001b[0m \u001b[0masdf\u001b[0m\u001b[1;33m\u001b[0m\u001b[1;33m\u001b[0m\u001b[0m\n\u001b[1;32m----> 5\u001b[1;33m \u001b[0mprint\u001b[0m\u001b[1;33m(\u001b[0m\u001b[0masdf\u001b[0m\u001b[1;33m)\u001b[0m\u001b[1;33m\u001b[0m\u001b[1;33m\u001b[0m\u001b[0m\n\u001b[0m",
      "\u001b[1;31mNameError\u001b[0m: name 'asdf' is not defined"
     ]
    }
   ],
   "source": [
    "# 변수에 저장해서 확인해봅시다.\n",
    "asdf = None # 메모리상에 비어있는 박스를 만든 것, 일단 카페에서 자리를 맡아둔 것\n",
    "print(asdf) \n",
    "del asdf\n",
    "print(asdf)"
   ]
  },
  {
   "cell_type": "markdown",
   "metadata": {},
   "source": [
    "## 문자형(String)\n",
    "\n",
    "### 기본 활용법\n",
    "\n",
    "* 문자열은 Single quotes(`'`)나 Double quotes(`\"`)을 활용하여 표현 가능하다. \n",
    "\n",
    "* 단, 문자열을 묶을 때 동일한 문장부호를 활용해야하며, `PEP-8`에서는 **하나의 문장부호를 선택**하여 유지하도록 하고 있습니다. \n",
    "(Pick a rule and Stick to it)"
   ]
  },
  {
   "cell_type": "code",
   "execution_count": 81,
   "metadata": {},
   "outputs": [
    {
     "name": "stdout",
     "output_type": "stream",
     "text": [
      "Hi Diane Diane\n",
      "<class 'str'>\n"
     ]
    }
   ],
   "source": [
    "# 변수에 문자열을 넣고 출력해봅시다.\n",
    "greeting = 'Hi'\n",
    "name = 'Diane'\n",
    "\n",
    "print(greeting, name, name) # print( , ) 쉼표쓰면 띄어쓰기 포함되어 있다.\n",
    "print(type(name))"
   ]
  },
  {
   "cell_type": "code",
   "execution_count": 83,
   "metadata": {},
   "outputs": [
    {
     "name": "stdout",
     "output_type": "stream",
     "text": [
      "100\n",
      "100\n",
      "<class 'str'>\n"
     ]
    }
   ],
   "source": [
    "# 사용자에게 받은 입력은 기본적으로 str입니다\n",
    "\n",
    "age = input()\n",
    "print(age)\n",
    "print(type(age))"
   ]
  },
  {
   "cell_type": "markdown",
   "metadata": {},
   "source": [
    "* 다만 문자열 안에 문장부호(`'`, `\"`)가 활용될 경우 이스케이프 문자(`\\`)를 사용하는 것 대신 활용 가능 합니다. "
   ]
  },
  {
   "cell_type": "code",
   "execution_count": 90,
   "metadata": {
    "scrolled": true
   },
   "outputs": [
    {
     "ename": "SyntaxError",
     "evalue": "invalid syntax (<ipython-input-90-2ad111141f39>, line 2)",
     "output_type": "error",
     "traceback": [
      "\u001b[1;36m  File \u001b[1;32m\"<ipython-input-90-2ad111141f39>\"\u001b[1;36m, line \u001b[1;32m2\u001b[0m\n\u001b[1;33m    print('철수가 말했다. '안녕?'')\u001b[0m\n\u001b[1;37m                      ^\u001b[0m\n\u001b[1;31mSyntaxError\u001b[0m\u001b[1;31m:\u001b[0m invalid syntax\n"
     ]
    }
   ],
   "source": [
    "# 문자열 안에 문장부호를 활용해서 오류를 확인해봅시다.\n",
    "print('철수가 말했다. '안녕?'')"
   ]
  },
  {
   "cell_type": "code",
   "execution_count": 88,
   "metadata": {},
   "outputs": [
    {
     "name": "stdout",
     "output_type": "stream",
     "text": [
      "철수가 말했다. \"안녕?\"\n",
      "철수가 말했다. \"안녕?\"\n"
     ]
    }
   ],
   "source": [
    "# 오류를 이스케이프 문자와 서로 다른 문장부호를 통해 해결해봅시다.\n",
    "print('철수가 말했다. \"안녕?\"')\n",
    "print(\"철수가 말했다. \\\"안녕?\\\"\")"
   ]
  },
  {
   "cell_type": "markdown",
   "metadata": {},
   "source": [
    "* 여러줄에 걸쳐있는 문장은 다음과 같이 표현 가능합니다.\n",
    "\n",
    "`PEP-8`에 따르면 이 경우에는 반드시 `\"\"\"`를 사용하도록 되어 있습니다."
   ]
  },
  {
   "cell_type": "code",
   "execution_count": 92,
   "metadata": {},
   "outputs": [
    {
     "name": "stdout",
     "output_type": "stream",
     "text": [
      "\n",
      "여러줄을 사용할 때는 \n",
      "single quote *3개도 가능은 합니다.\n",
      "하지만, 반드시 double quote *3개를 쓰도록 합시다.\n",
      "\n"
     ]
    }
   ],
   "source": [
    "# 여러줄을 출력해봅시다.\n",
    "long_str = \"\"\"\n",
    "여러줄을 사용할 때는 \n",
    "single quote *3개도 가능은 합니다.\n",
    "하지만, 반드시 double quote *3개를 쓰도록 합시다.\n",
    "\"\"\"\n",
    "\n",
    "print(long_str)"
   ]
  },
  {
   "cell_type": "markdown",
   "metadata": {},
   "source": [
    "### 이스케이프 문자열\n",
    "\n",
    "문자열을 활용하는 경우 특수문자 혹은 조작을 하기 위하여 사용되는 것으로 `\\`를 활용하여 이를 구분한다. \n",
    "\n",
    "|<center>예약문자</center>|내용(의미)|\n",
    "|:--------:|:--------:|\n",
    "|\\n|줄바꿈|\n",
    "|\\t|탭|\n",
    "|\\r|캐리지리턴|\n",
    "|\\0|널(Null)|\n",
    "|`\\\\`|`\\`|\n",
    "|\\'|단일인용부호(')|\n",
    "|\\\"|이중인용부호(\")|"
   ]
  },
  {
   "cell_type": "code",
   "execution_count": 11,
   "metadata": {},
   "outputs": [
    {
     "name": "stdout",
     "output_type": "stream",
     "text": [
      "이 다음은 엔터\n",
      ", 그리고 탭\t탭 .\n"
     ]
    }
   ],
   "source": [
    "# 이스케이프 문자열을 조합하여 프린트해봅시다.\n",
    "print('이 다음은 엔터\\n, 그리고 탭\\t탭 .')"
   ]
  },
  {
   "cell_type": "markdown",
   "metadata": {},
   "source": [
    "* 이를 출력할 때 활용할 수가 있다."
   ]
  },
  {
   "cell_type": "code",
   "execution_count": 98,
   "metadata": {},
   "outputs": [
    {
     "name": "stdout",
     "output_type": "stream",
     "text": [
      "다음줄 말고\t옆에 출력하고 싶다.\n"
     ]
    }
   ],
   "source": [
    "# print를 하는 과정에서도 이스케이프 문자열을 활용 가능합니다.\n",
    "print('다음줄 말고', end='\\t')\n",
    "print('옆에 출력하고 싶다.')"
   ]
  },
  {
   "cell_type": "code",
   "execution_count": 100,
   "metadata": {},
   "outputs": [
    {
     "name": "stdout",
     "output_type": "stream",
     "text": [
      "개행문자(backslash n)말고도 적용가능합니다! 하핫!"
     ]
    }
   ],
   "source": [
    "# 물론, end 옵션은 이스케이프 문자열이 아닌 다른 것도 가능합니다.\n",
    "print('개행문자(backslash n)말고도 적용가능합니다', end='! ')\n",
    "print('하핫', end='!')"
   ]
  },
  {
   "cell_type": "markdown",
   "metadata": {},
   "source": [
    "### String interpolation \n",
    "\n",
    "1) `%-formatting` \n",
    "\n",
    "2) [`str.format()` ](https://pyformat.info/)\n",
    "\n",
    "3) [`f-strings`](https://www.python.org/dev/peps/pep-0498/) : 파이썬 3.6 버전 이후에 지원 되는 사항입니다.\n",
    "\n",
    "`.format()`는 해당 [링크](https://pyformat.info/)에서 확인바랍니다."
   ]
  },
  {
   "cell_type": "code",
   "execution_count": 101,
   "metadata": {},
   "outputs": [],
   "source": [
    "# name 변수에 이름을 입력해봅시다.\n",
    "name = '하다연'"
   ]
  },
  {
   "cell_type": "code",
   "execution_count": 102,
   "metadata": {},
   "outputs": [
    {
     "data": {
      "text/plain": [
       "'Hello, 하다연'"
      ]
     },
     "execution_count": 102,
     "metadata": {},
     "output_type": "execute_result"
    }
   ],
   "source": [
    "# %-formatting을 활용해봅시다.\n",
    "'Hello, %s' % name"
   ]
  },
  {
   "cell_type": "code",
   "execution_count": 104,
   "metadata": {},
   "outputs": [
    {
     "data": {
      "text/plain": [
       "'Hello, 하다연 100 True'"
      ]
     },
     "execution_count": 104,
     "metadata": {},
     "output_type": "execute_result"
    }
   ],
   "source": [
    "# str.format()을 활용해봅시다.\n",
    "'Hello, {} {} {}'.format(name, 100, True)"
   ]
  },
  {
   "cell_type": "code",
   "execution_count": 105,
   "metadata": {},
   "outputs": [
    {
     "data": {
      "text/plain": [
       "'Hello, 하다연'"
      ]
     },
     "execution_count": 105,
     "metadata": {},
     "output_type": "execute_result"
    }
   ],
   "source": [
    "# f-string을 활용해봅시다.\n",
    "f'Hello, {name}'"
   ]
  },
  {
   "cell_type": "code",
   "execution_count": 106,
   "metadata": {},
   "outputs": [
    {
     "name": "stdout",
     "output_type": "stream",
     "text": [
      "\n",
      "나는 apple & americano를 좋아한다.\n",
      "\n"
     ]
    }
   ],
   "source": [
    "# 물론 string interpolation도 가능합니다.\n",
    "fruit = 'apple'\n",
    "coffee = 'americano'\n",
    "\n",
    "print(f\"\"\"\n",
    "나는 {fruit} & {coffee}를 좋아한다.\n",
    "\"\"\")"
   ]
  },
  {
   "cell_type": "markdown",
   "metadata": {},
   "source": [
    "* f-strings에서는 형식을 지정할 수 있으며,"
   ]
  },
  {
   "cell_type": "code",
   "execution_count": 12,
   "metadata": {},
   "outputs": [
    {
     "name": "stdout",
     "output_type": "stream",
     "text": [
      "2185609890376\n",
      "2019-07-25 15:43:07.267293\n"
     ]
    }
   ],
   "source": [
    "# 다양한 형식을 활용하기 위해 datetime 모듈로 오늘을 표현해봅시다.\n",
    "import datetime # 필통을 작업테이블 위에 올림\n",
    "print(id(datetime)) # 작업테이블 위 --- 장소에 올려있음\n",
    "\n",
    "today = datetime.datetime.now()\n",
    "print(today)\n"
   ]
  },
  {
   "cell_type": "code",
   "execution_count": 116,
   "metadata": {},
   "outputs": [
    {
     "data": {
      "text/plain": [
       "'오늘은 19년 07월 15일 Monday'"
      ]
     },
     "execution_count": 116,
     "metadata": {},
     "output_type": "execute_result"
    }
   ],
   "source": [
    "f'오늘은 {today:%y}년 {today:%m}월 {today:%d}일 {today:%A}'"
   ]
  },
  {
   "cell_type": "markdown",
   "metadata": {},
   "source": [
    "* 연산과 출력형식 지정도 가능합니다."
   ]
  },
  {
   "cell_type": "code",
   "execution_count": 115,
   "metadata": {},
   "outputs": [
    {
     "data": {
      "text/plain": [
       "'원주율은 3.142/3.142이고 반지름이 2인 원의 넓이는 12.566368'"
      ]
     },
     "execution_count": 115,
     "metadata": {},
     "output_type": "execute_result"
    }
   ],
   "source": [
    "# string interpolation에서 연산과 숫자 출력형식을 지정해봅시다.\n",
    "pi = 3.141592\n",
    "f'원주율은 {round(pi, 3)}/{pi:.4}이고 반지름이 2인 원의 넓이는 {pi*2*2}'"
   ]
  },
  {
   "cell_type": "markdown",
   "metadata": {},
   "source": [
    "# 연산자\n",
    "\n",
    "## 산술 연산자\n",
    "Python에서는 기본적인 사칙연산이 가능합니다. \n",
    "\n",
    "|연산자|내용|\n",
    "|----|---|\n",
    "|+|덧셈|\n",
    "|-|뺄셈|\n",
    "|\\*|곱셈|\n",
    "|/|나눗셈|\n",
    "|//|몫|\n",
    "|%|나머지(modulo)|\n",
    "|\\*\\*|거듭제곱|\n"
   ]
  },
  {
   "cell_type": "code",
   "execution_count": 117,
   "metadata": {},
   "outputs": [
    {
     "data": {
      "text/plain": [
       "10715086071862673209484250490600018105614048117055336074437503883703510511249361224931983788156958581275946729175531468251871452856923140435984577574698574803934567774824230985421074605062371141877954182153046474983581941267398767559165543946077062914571196477686542167660429831652624386837205668069376"
      ]
     },
     "execution_count": 117,
     "metadata": {},
     "output_type": "execute_result"
    }
   ],
   "source": [
    "# 2의 1000승을 확인해봅시다.\n",
    "2 ** 1000"
   ]
  },
  {
   "cell_type": "code",
   "execution_count": 1,
   "metadata": {},
   "outputs": [
    {
     "name": "stdout",
     "output_type": "stream",
     "text": [
      "7.5\n",
      "7\n",
      "2\n"
     ]
    },
    {
     "data": {
      "text/plain": [
       "True"
      ]
     },
     "execution_count": 1,
     "metadata": {},
     "output_type": "execute_result"
    }
   ],
   "source": [
    "# 나눗셈과 관련된 산술연산자를 활용해봅시다.\n",
    "print(30/4)\n",
    "print(30//4)\n",
    "print(30%4)\n",
    "5 == ((5 // 2) * 2)+(5%2)"
   ]
  },
  {
   "cell_type": "code",
   "execution_count": 2,
   "metadata": {},
   "outputs": [
    {
     "name": "stdout",
     "output_type": "stream",
     "text": [
      "(2, 1)\n"
     ]
    }
   ],
   "source": [
    "# divmod는 나눗셈과 관련된 함수입니다.\n",
    "print(divmod(5, 2))\n",
    "quotient, remainder = divmod(5, 2)"
   ]
  },
  {
   "cell_type": "markdown",
   "metadata": {},
   "source": [
    "* 양수/음수도 표현 가능합니다."
   ]
  },
  {
   "cell_type": "code",
   "execution_count": 3,
   "metadata": {},
   "outputs": [
    {
     "name": "stdout",
     "output_type": "stream",
     "text": [
      "-4\n",
      "-4\n",
      "4\n"
     ]
    }
   ],
   "source": [
    "# 음수 양수 표현도 해봅시다.\n",
    "positive = 4\n",
    "print(-positive)\n",
    "negative = -4\n",
    "print(+negative)\n",
    "print(-negative)"
   ]
  },
  {
   "cell_type": "markdown",
   "metadata": {},
   "source": [
    "## 비교 연산자\n",
    "\n",
    "우리가 수학에서 배운 연산자와 동일하게 값을 비교할 수 있습니다.\n",
    "\n",
    "|연산자|내용|\n",
    "|----|---|\n",
    "|a > b|초과|\n",
    "|a < b|미만|\n",
    "|a >= b|이상|\n",
    "|a <= b|이하|\n",
    "|a == b|같음|\n",
    "|a != b|같지않음|\n",
    "\n"
   ]
  },
  {
   "cell_type": "code",
   "execution_count": 8,
   "metadata": {},
   "outputs": [
    {
     "data": {
      "text/plain": [
       "False"
      ]
     },
     "execution_count": 8,
     "metadata": {},
     "output_type": "execute_result"
    }
   ],
   "source": [
    "# 숫자의 대소관계를 비교해봅시다.\n",
    "3 > 5"
   ]
  },
  {
   "cell_type": "code",
   "execution_count": 7,
   "metadata": {},
   "outputs": [
    {
     "data": {
      "text/plain": [
       "False"
      ]
     },
     "execution_count": 7,
     "metadata": {},
     "output_type": "execute_result"
    }
   ],
   "source": [
    "# 같은 숫자인지 확인해봅시다.\n",
    "3 == 5"
   ]
  },
  {
   "cell_type": "code",
   "execution_count": 5,
   "metadata": {},
   "outputs": [
    {
     "data": {
      "text/plain": [
       "True"
      ]
     },
     "execution_count": 5,
     "metadata": {},
     "output_type": "execute_result"
    }
   ],
   "source": [
    "# 다른 숫자인지 확인해봅시다.\n",
    "3 != 3.0\n",
    "3 == 3.0"
   ]
  },
  {
   "cell_type": "code",
   "execution_count": 6,
   "metadata": {},
   "outputs": [
    {
     "data": {
      "text/plain": [
       "False"
      ]
     },
     "execution_count": 6,
     "metadata": {},
     "output_type": "execute_result"
    }
   ],
   "source": [
    "# 문자열도 같은지 확인해봅시다.\n",
    "'Hi' == 'hi'"
   ]
  },
  {
   "cell_type": "markdown",
   "metadata": {},
   "source": [
    "## 논리 연산자\n",
    "\n",
    "|연산자|내용|\n",
    "|---|---|\n",
    "|a and b|a와 b 모두 True시만 True|\n",
    "|a or b|a 와 b 모두 False시만 False|\n",
    "|not a|True -> False, False -> True|\n",
    "\n",
    "우리가 보통 알고 있는 `&` `|`은 파이썬에서 비트 연산자이다."
   ]
  },
  {
   "cell_type": "code",
   "execution_count": 9,
   "metadata": {},
   "outputs": [
    {
     "name": "stdout",
     "output_type": "stream",
     "text": [
      "False\n",
      "False\n",
      "False\n",
      "True\n"
     ]
    }
   ],
   "source": [
    "# and과 관련해서 모든 case를 출력해봅시다.\n",
    "print(True and False)\n",
    "print(1 > 0 and 3 != 3)\n",
    "print(bool(0) and 1)\n",
    "print(True and 1 == 1)"
   ]
  },
  {
   "cell_type": "code",
   "execution_count": 10,
   "metadata": {},
   "outputs": [
    {
     "name": "stdout",
     "output_type": "stream",
     "text": [
      "True\n",
      "True\n",
      "True\n",
      "False\n"
     ]
    }
   ],
   "source": [
    "# or과 관련해서 모든 case를 출력해봅시다.\n",
    "print(True or True)\n",
    "print(True or False)\n",
    "print(False or True)\n",
    "print(False or False)"
   ]
  },
  {
   "cell_type": "code",
   "execution_count": 11,
   "metadata": {},
   "outputs": [
    {
     "name": "stdout",
     "output_type": "stream",
     "text": [
      "False\n",
      "True\n",
      "True\n",
      "False\n"
     ]
    }
   ],
   "source": [
    "# not을 활용해봅시다.\n",
    "print(not True)\n",
    "print(not 0)\n",
    "print(not [])\n",
    "print(not ' ')"
   ]
  },
  {
   "cell_type": "markdown",
   "metadata": {},
   "source": [
    "* 파이썬에서 and는 a가 거짓이면 a를 리턴하고, 참이면 b를 리턴한다.\n",
    "* 파이썬에서 or은 a가 참이면 a를 리턴하고, 거짓이면 b를 리턴한다."
   ]
  },
  {
   "cell_type": "code",
   "execution_count": 12,
   "metadata": {},
   "outputs": [
    {
     "name": "stdout",
     "output_type": "stream",
     "text": [
      "5\n",
      "0\n",
      "0\n",
      "0\n",
      "0\n",
      "15\n",
      "0\n"
     ]
    }
   ],
   "source": [
    "# and의 단축평가(short-circuit evaluation)에 대해서 알아봅시다.\n",
    "print(3 and 5) # T & T\n",
    "print(3 and 0) # T & F\n",
    "print(0 and 3) # F & T\n",
    "print(0 and 0) # F & F\n",
    "print(3 and 5 and 10 and 15 and 0) # T & T & T # T & F\n",
    "print(3 and 5 and 10 and 15)# T & T & T & T\n",
    "print(1 and 2 and 0 and 15 and 10 and 15) # T & T & F & T & T\n",
    "# F가 나올 때까지만 봄 > 마지막에 본 숫자까지 나옴."
   ]
  },
  {
   "cell_type": "code",
   "execution_count": 14,
   "metadata": {},
   "outputs": [
    {
     "name": "stdout",
     "output_type": "stream",
     "text": [
      "3\n",
      "3\n",
      "3\n",
      "0\n",
      "3\n",
      "3\n",
      "1\n"
     ]
    }
   ],
   "source": [
    "# or의 단축평가(short-circuit evaluation)에 대해서 알아봅시다.\n",
    "print(3 or 5)\n",
    "print(3 or 0)\n",
    "print(0 or 3)\n",
    "print(0 or 0)\n",
    "print(3 or 5 or 10 or 15 or 0) # T & T & T # T & F\n",
    "print(3 or 5 or 10 or 15)# T & T & T & T\n",
    "print(1 or 2 or 0 or 15 or 10 or 15) # T & T & F & T & T\n",
    "# or은 T가 나올때까지만 봄"
   ]
  },
  {
   "cell_type": "markdown",
   "metadata": {},
   "source": [
    "## 복합 연산자\n",
    "\n",
    "복합 연산자는 연산과 대입이 함께 이뤄진다. \n",
    "\n",
    "가장 많이 활용되는 경우는 반복문을 통해서 갯수를 카운트하거나 할 때 활용된다.\n",
    "\n",
    "|연산자|내용|\n",
    "|----|---|\n",
    "|a += b|a = a + b|\n",
    "|a -= b|a = a - b|\n",
    "|a \\*= b|a = a \\* b|\n",
    "|a /= b|a = a / b|\n",
    "|a //= b|a = a // b|\n",
    "|a %= b|a = a % b|\n",
    "|a \\*\\*= b|a = a ** b|"
   ]
  },
  {
   "cell_type": "code",
   "execution_count": null,
   "metadata": {},
   "outputs": [],
   "source": [
    "# 복합연산자는 이럴 때 사용됩니다.\n",
    "cnt = 0\n",
    "\n",
    "while cnt < 5:\n",
    "    print(cnt)\n",
    "    cnt += 1 # cnt++ 안됨"
   ]
  },
  {
   "cell_type": "markdown",
   "metadata": {},
   "source": [
    "## 기타 연산자\n",
    "\n",
    "### Concatenation\n",
    "\n",
    "숫자가 아닌 자료형은 `+` 연산자를 통해 합칠 수 있다.\n",
    "\n",
    "### Containment Test\n",
    "\n",
    "`in` 연산자를 통해 속해있는지 여부를 확인할 수 있다.\n",
    "\n",
    "### Identity\n",
    "\n",
    "`is` 연산자를 통해 동일한 object인지 확인할 수 있다. \n",
    "\n",
    "\n",
    "(나중에 Class를 배우고 다시 학습)\n",
    "\n",
    "### Indexing/Slicing\n",
    "`[]`를 통한 값 접근 및 `[:]`을 통한 슬라이싱 \n",
    "\n",
    "(다음 챕터를 배우면서 추가 학습)"
   ]
  },
  {
   "cell_type": "code",
   "execution_count": null,
   "metadata": {},
   "outputs": [],
   "source": []
  },
  {
   "cell_type": "code",
   "execution_count": null,
   "metadata": {},
   "outputs": [],
   "source": [
    "# 문자열끼리 더해봅시다.(합쳐봅시다.) > 이어나가기의 개념, - 는 불가\n",
    "'ap' + 'ple'"
   ]
  },
  {
   "cell_type": "code",
   "execution_count": null,
   "metadata": {},
   "outputs": [],
   "source": [
    "# list끼리 더해봅시다.(합쳐봅시다.)\n",
    "[1, 2, 3] + [4, 5, 6]"
   ]
  },
  {
   "cell_type": "code",
   "execution_count": null,
   "metadata": {},
   "outputs": [],
   "source": [
    "# 문자열안에 특정한 문자가 있는지 확인해봅시다.\n",
    "'a' in 'apple'"
   ]
  },
  {
   "cell_type": "code",
   "execution_count": null,
   "metadata": {},
   "outputs": [],
   "source": [
    "# list안에 특정한 원소가 있는지 확인해봅시다.\n",
    "# 리스트와 문자열 구조적으로 똑같이 저장되어 인덱스 접근 등 유사점이 많다.\n",
    "1 in [1, 2, 3]"
   ]
  },
  {
   "cell_type": "code",
   "execution_count": null,
   "metadata": {},
   "outputs": [],
   "source": [
    "# range안에 특정한 원소가 있는지 확인해봅시다.\n",
    "10 in range(1, 100) 1부터 100미만까지\n",
    "5 in range(5) # 0부터 5 미만까지"
   ]
  },
  {
   "cell_type": "code",
   "execution_count": null,
   "metadata": {},
   "outputs": [],
   "source": [
    "# is는 맛만 봅시다.\n",
    "# 파이썬에서 -5부터 256까지의 id는 동일합니다. \n",
    "# > 자주 쓰는 숫자라 메모리에 따로 저장되어 있고 a, b 는 3 이 저장되어 있는 곳을\n",
    "# 가리키게 된다.\n",
    "a = 3\n",
    "b = 3\n",
    "\n",
    "print(a == b)\n",
    "print(a is b)\n",
    "print(id(a), id(b))\n",
    "\n",
    "x = 300\n",
    "y = 300\n",
    "\n",
    "print(x == y)\n",
    "print(x is y)\n",
    "\n",
    "# id는 다르죠!\n",
    "print(id(x), id(y))\n"
   ]
  },
  {
   "cell_type": "code",
   "execution_count": null,
   "metadata": {},
   "outputs": [],
   "source": [
    "# 문자열을 인덱싱을 통해 값에 접근해봅시다.\n",
    "'hi'[0]"
   ]
  },
  {
   "cell_type": "markdown",
   "metadata": {},
   "source": [
    "## 연산자 우선순위\n",
    "\n",
    "0. `()`을 통한 grouping\n",
    "\n",
    "1. Slicing `[:]`\n",
    " \n",
    "2. Indexing `[0]`\n",
    "\n",
    "3. 제곱연산자\n",
    "    `**`\n",
    "\n",
    "4. 단항연산자 \n",
    "    +, - (음수/양수 부호)\n",
    "\n",
    "5. 산술연산자\n",
    "    \\*, /, %\n",
    "    \n",
    "6. 산술연산자\n",
    "    +, -\n",
    " \n",
    "7. 비교연산자, `in`, `is`\n",
    "\n",
    "8. `not`\n",
    "\n",
    "9. `and` \n",
    "\n",
    "10. `or`"
   ]
  },
  {
   "cell_type": "code",
   "execution_count": 2,
   "metadata": {},
   "outputs": [
    {
     "data": {
      "text/plain": [
       "False"
      ]
     },
     "execution_count": 2,
     "metadata": {},
     "output_type": "execute_result"
    }
   ],
   "source": [
    "# 우선순위를 확인해봅시다.\n",
    "-3 ** 5\n",
    "\n",
    "'a' not in 'apple' and not 'A' is 'A' \n"
   ]
  },
  {
   "cell_type": "markdown",
   "metadata": {},
   "source": [
    "# 기초 형변환(Type conversion, Typecasting)\n",
    "\n",
    "\n",
    "파이썬에서 데이터타입은 서로 변환할 수 있다.\n",
    "\n",
    "## 암시적 형변환(Implicit Type Conversion)\n",
    "사용자가 의도하지 않았지만, 파이썬 내부적으로 자동으로 형변환 하는 경우이다.\n",
    "아래의 상황에서만 가능하다.\n",
    "* bool\n",
    "* Numbers (int, float, complex)"
   ]
  },
  {
   "cell_type": "code",
   "execution_count": 3,
   "metadata": {},
   "outputs": [
    {
     "data": {
      "text/plain": [
       "4"
      ]
     },
     "execution_count": 3,
     "metadata": {},
     "output_type": "execute_result"
    }
   ],
   "source": [
    "# boolean과 integer는 더할 수 있을까요?\n",
    "True + 3 #bool()"
   ]
  },
  {
   "cell_type": "code",
   "execution_count": 4,
   "metadata": {},
   "outputs": [],
   "source": [
    "# int, float, complex를 각각 변수에 대입해봅시다.\n",
    "int_n = 3\n",
    "float_n = 5.0\n",
    "complex_n = 3 + 5j"
   ]
  },
  {
   "cell_type": "code",
   "execution_count": 5,
   "metadata": {},
   "outputs": [
    {
     "name": "stdout",
     "output_type": "stream",
     "text": [
      "8.0\n",
      "<class 'float'>\n"
     ]
    }
   ],
   "source": [
    "# int와 float를 더해봅시다. 그 결과의 type은 무엇일까요?\n",
    "ifn = int_n + float_n\n",
    "print(ifn)\n",
    "print(type(ifn))"
   ]
  },
  {
   "cell_type": "code",
   "execution_count": 6,
   "metadata": {},
   "outputs": [
    {
     "name": "stdout",
     "output_type": "stream",
     "text": [
      "(6+5j)\n",
      "<class 'complex'>\n"
     ]
    }
   ],
   "source": [
    "# int와 complex를 더해봅시다. 그 결과의 type은 무엇일까요?\n",
    "icn = int_n + complex_n\n",
    "print(icn)\n",
    "print(type(icn))"
   ]
  },
  {
   "cell_type": "markdown",
   "metadata": {},
   "source": [
    "## 명시적 형변환(Explicit Type Conversion)\n",
    "\n",
    "위의 상황을 제외하고는 모두 명시적으로 형 변환을 해주어야한다.\n",
    "\n",
    "* string -> intger  : 형식에 맞는 숫자만 가능\n",
    "* integer -> string : 모두 가능\n",
    "\n",
    "암시적 형변환이 되는 모든 경우도 명시적으로 형변환이 가능하다.\n",
    "\n",
    "* `int()` : string, float를 int로 변환\n",
    "* `float()` : string, int를 float로 변환\n",
    "* `str()` : int, float, list, tuple, dictionary를 문자열로 변환\n",
    "\n",
    "`list(), tuple()` 등은 다음 챕터에서 배울 예정이다."
   ]
  },
  {
   "cell_type": "code",
   "execution_count": 7,
   "metadata": {},
   "outputs": [
    {
     "data": {
      "text/plain": [
       "'1등'"
      ]
     },
     "execution_count": 7,
     "metadata": {},
     "output_type": "execute_result"
    }
   ],
   "source": [
    "# integer와 string 사이의 관계는 명시적으로 형변환을 해줘야만 합니다.\n",
    "# 1 + '등'\n",
    "str(1) + '등'"
   ]
  },
  {
   "cell_type": "code",
   "execution_count": 8,
   "metadata": {},
   "outputs": [
    {
     "name": "stdout",
     "output_type": "stream",
     "text": [
      "3 <class 'int'>\n"
     ]
    }
   ],
   "source": [
    "# string 3을 integer로 변환해봅시다.\n",
    "a = '3'\n",
    "print(int(a), type(int(a)))"
   ]
  },
  {
   "cell_type": "code",
   "execution_count": 9,
   "metadata": {},
   "outputs": [
    {
     "data": {
      "text/plain": [
       "float"
      ]
     },
     "execution_count": 9,
     "metadata": {},
     "output_type": "execute_result"
    }
   ],
   "source": [
    "# string 3.5를 float로 변환해봅시다.\n",
    "a = '3.5'\n",
    "type(float(3.5))"
   ]
  },
  {
   "cell_type": "code",
   "execution_count": null,
   "metadata": {},
   "outputs": [],
   "source": [
    "# string은 글씨가 숫자일때만 형변환이 가능합니다."
   ]
  },
  {
   "cell_type": "code",
   "execution_count": 13,
   "metadata": {},
   "outputs": [
    {
     "data": {
      "text/plain": [
       "3"
      ]
     },
     "execution_count": 13,
     "metadata": {},
     "output_type": "execute_result"
    }
   ],
   "source": [
    "# string 3.5를 int로 변환할 수는 없습니다.\n",
    "# a = '3.5'\n",
    "# int(a)\n",
    "\n",
    "a = float(a)\n",
    "int(a)"
   ]
  },
  {
   "cell_type": "code",
   "execution_count": 12,
   "metadata": {},
   "outputs": [
    {
     "data": {
      "text/plain": [
       "3"
      ]
     },
     "execution_count": 12,
     "metadata": {},
     "output_type": "execute_result"
    }
   ],
   "source": [
    "# float 3.5는 int로 변환이 가능합니다.\n",
    "a = 3.5\n",
    "int(a)"
   ]
  },
  {
   "cell_type": "markdown",
   "metadata": {},
   "source": [
    "# 시퀀스(sequence) 자료형 > 모두 뒤에 []를 붙일 수 있다.\n",
    "\n",
    "`시퀀스`는 데이터의 **순서대로 나열된 형식**을 나타낸다. \n",
    "\n",
    "**주의! 순서대로 나열된 것이 정렬되었다라는 뜻은 아니다.**\n",
    "\n",
    "파이썬에서 기본적인 시퀀스 타입은 다음과 같다.\n",
    "\n",
    "1. 리스트(list) - mutable >>>>>'apple'[::-1]\n",
    "\n",
    "2. 튜플(tuple) - immutable\n",
    "\n",
    "3. 레인지(range) - immutable\n",
    "\n",
    "4. 문자열(string) - immutable\n",
    "\n",
    "5. 바이너리(binary) : 따로 다루지는 않습니다.\n"
   ]
  },
  {
   "cell_type": "markdown",
   "metadata": {},
   "source": [
    "\n",
    "## `list`\n",
    "\n",
    "<center><img src=\"./images/01/list.png\", alt=\"list figure\"/></center>"
   ]
  },
  {
   "cell_type": "markdown",
   "metadata": {},
   "source": [
    "**활용법**\n",
    "```python\n",
    "[value1, value2, value3]\n",
    "```\n",
    "\n",
    "리스트는 대괄호`[]` 또는 `list()` 를 통해 만들 수 있습니다.\n",
    "\n",
    "값에 대한 접근은 `list[i]`를 통해 합니다."
   ]
  },
  {
   "cell_type": "code",
   "execution_count": 17,
   "metadata": {},
   "outputs": [
    {
     "name": "stdout",
     "output_type": "stream",
     "text": [
      "0 False \n"
     ]
    },
    {
     "data": {
      "text/plain": [
       "tuple"
      ]
     },
     "execution_count": 17,
     "metadata": {},
     "output_type": "execute_result"
    }
   ],
   "source": [
    "# 빈 리스트를 만들어봅시다.\n",
    "list_1 = []\n",
    "list_2 = list() \n",
    "\n",
    "# int(), bool(), str(), float(), complex(), list(1, 2, 3) => 생성자함수\n",
    "0, False, '', 0,0, 0j, [1, 2, 3] => literal\n",
    "\n",
    "print(int(), bool(), str())\n",
    "type(())"
   ]
  },
  {
   "cell_type": "code",
   "execution_count": 18,
   "metadata": {},
   "outputs": [
    {
     "name": "stdout",
     "output_type": "stream",
     "text": [
      "['서울', '대전', '광주', '구미'] <class 'list'>\n"
     ]
    }
   ],
   "source": [
    "# 원소를 포함한 리스트를 만들어봅시다.\n",
    "locations = ['서울', '대전', '광주', '구미']\n",
    "print(locations, type(locations))"
   ]
  },
  {
   "cell_type": "code",
   "execution_count": 19,
   "metadata": {},
   "outputs": [
    {
     "data": {
      "text/plain": [
       "'서울'"
      ]
     },
     "execution_count": 19,
     "metadata": {},
     "output_type": "execute_result"
    }
   ],
   "source": [
    "# 첫번째 값에 접근해봅시다.\n",
    "locations[0]"
   ]
  },
  {
   "cell_type": "markdown",
   "metadata": {},
   "source": [
    "## `tuple`\n",
    "\n",
    "**활용법**\n",
    "```python\n",
    "(value1, value2)\n",
    "```\n",
    "\n",
    "튜플은 리스트와 유사하지만, `()`로 묶어서 표현합니다.\n",
    "\n",
    "그리고 tuple은 수정 불가능(immutable)하고, 읽을 수 밖에 없습니다.\n",
    "\n",
    "직접 사용하는 것보다는 파이썬 내부에서 사용하고 있습니다."
   ]
  },
  {
   "cell_type": "code",
   "execution_count": 21,
   "metadata": {},
   "outputs": [
    {
     "name": "stdout",
     "output_type": "stream",
     "text": [
      "(1, 2) <class 'tuple'>\n"
     ]
    }
   ],
   "source": [
    "# tuple을 만들어봅시다.\n",
    "tup = (1, 2)\n",
    "print(tup, type(tup))"
   ]
  },
  {
   "cell_type": "code",
   "execution_count": 22,
   "metadata": {},
   "outputs": [
    {
     "name": "stdout",
     "output_type": "stream",
     "text": [
      "(1, 2) <class 'tuple'>\n"
     ]
    }
   ],
   "source": [
    "# 아래와 같이 만들 수 있습니다.\n",
    "x = 1, 2\n",
    "print(x, type(x))"
   ]
  },
  {
   "cell_type": "code",
   "execution_count": 23,
   "metadata": {},
   "outputs": [],
   "source": [
    "# 파이썬 내부에서는 다음과 같이 활용됩니다.\n",
    "# 앞선 2. 변수 및 자료형 예제에서 사용된 코드입니다.\n",
    "x, y = 1, 2\n",
    "(z , m) = (2, 4) "
   ]
  },
  {
   "cell_type": "code",
   "execution_count": null,
   "metadata": {},
   "outputs": [],
   "source": [
    "# 실제로는 tuple로 처리됩니다.\n",
    "x, y = (1, 2)"
   ]
  },
  {
   "cell_type": "code",
   "execution_count": 24,
   "metadata": {},
   "outputs": [],
   "source": [
    "# 변수의 값을 swap하는 코드 역시 tuple을 활용하고 있습니다. \n",
    "x, y = y, x"
   ]
  },
  {
   "cell_type": "code",
   "execution_count": 25,
   "metadata": {},
   "outputs": [
    {
     "name": "stdout",
     "output_type": "stream",
     "text": [
      "(1, 2, 3, 4, 5, 'a', 'b') <class 'tuple'>\n"
     ]
    },
    {
     "data": {
      "text/plain": [
       "'a'"
      ]
     },
     "execution_count": 25,
     "metadata": {},
     "output_type": "execute_result"
    }
   ],
   "source": [
    "tup = 1,2,3,4,5,'a','b'\n",
    "print(tup, type(tup))\n",
    "\n",
    "tup[5]"
   ]
  },
  {
   "cell_type": "markdown",
   "metadata": {},
   "source": [
    "##  `range()`\n",
    "\n",
    "레인지는 숫자의 시퀀스를 나타내기 위해 사용됩니다.\n",
    "\n",
    "기본형 : `range(n)` \n",
    "\n",
    "\n",
    "> 0부터 n-1까지 값을 가짐\n",
    "\n",
    "\n",
    "범위 지정 : `range(n, m)` \n",
    "\n",
    "> n부터 m-1까지 값을 가짐\n",
    "\n",
    "범위 및 스텝 지정 : `range(n, m, s)`\n",
    "\n",
    "> n부터 m-1까지 +s만큼 증가한다"
   ]
  },
  {
   "cell_type": "code",
   "execution_count": 28,
   "metadata": {},
   "outputs": [
    {
     "name": "stdout",
     "output_type": "stream",
     "text": [
      "range(0, 10) <class 'range'>\n"
     ]
    }
   ],
   "source": [
    "# range를 만들어봅시다. range는 literal가 없다 \n",
    "print(range(10), type(range(10)))"
   ]
  },
  {
   "cell_type": "code",
   "execution_count": 29,
   "metadata": {},
   "outputs": [
    {
     "data": {
      "text/plain": [
       "[0, 1, 2, 3, 4, 5, 6, 7, 8, 9]"
      ]
     },
     "execution_count": 29,
     "metadata": {},
     "output_type": "execute_result"
    }
   ],
   "source": [
    "# range에 담긴 값을 list로 바꿔서 확인해봅시다.\n",
    "r = range(10) \n",
    "list(r) # [] 대괄호 리터럴을 사용해서는 range를 리스트로 못만듦"
   ]
  },
  {
   "cell_type": "code",
   "execution_count": 30,
   "metadata": {},
   "outputs": [
    {
     "data": {
      "text/plain": [
       "[4, 5, 6, 7, 8]"
      ]
     },
     "execution_count": 30,
     "metadata": {},
     "output_type": "execute_result"
    }
   ],
   "source": [
    "# 4 ~ 8까지의 숫자를 담은 list를 만들어봅시다.\n",
    "list(range(4, 9))"
   ]
  },
  {
   "cell_type": "code",
   "execution_count": 34,
   "metadata": {},
   "outputs": [
    {
     "data": {
      "text/plain": [
       "[0, -1, -2, -3, -4, -5, -6, -7, -8, -9]"
      ]
     },
     "execution_count": 34,
     "metadata": {},
     "output_type": "execute_result"
    }
   ],
   "source": [
    "# 0부터 -9까지 담긴 list를 만들어봅시다.\n",
    "list(range(0, -10, -1))"
   ]
  },
  {
   "cell_type": "code",
   "execution_count": 38,
   "metadata": {},
   "outputs": [
    {
     "data": {
      "text/plain": [
       "[0, 5, 10, 15, 20, 25, 30, 35, 40, 45, 50, 55, 60, 65, 70, 75, 80, 85, 90, 95]"
      ]
     },
     "execution_count": 38,
     "metadata": {},
     "output_type": "execute_result"
    }
   ],
   "source": [
    "# step: 괄호 안 3번째 자리 > Intiger만 가능\n",
    "# list(range(0, 1, 0.1)) > 불가\n",
    "list(range(0, 100, 5))"
   ]
  },
  {
   "cell_type": "markdown",
   "metadata": {},
   "source": [
    "\n",
    "## 시퀀스에서 활용할 수 있는 연산자/함수 \n",
    "\n",
    "|operation|설명|\n",
    "|---------|---|\n",
    "|x in s\t|containment test|\n",
    "|x not in s|containment test|\n",
    "|s1 + s2|concatenation|\n",
    "|s * n|n번만큼 반복하여 더하기\n",
    "|s[i]|indexing|\n",
    "|s[i:j]|slicing|\n",
    "|s[i:j:k]|k간격으로 slicing|\n",
    "|len(s)|길이|\n",
    "|min(s)|최솟값|\n",
    "|max(s)|최댓값|\n",
    "|s.count(x)|x의 갯수|"
   ]
  },
  {
   "cell_type": "code",
   "execution_count": null,
   "metadata": {},
   "outputs": [],
   "source": [
    "# contain test를 확인해봅시다."
   ]
  },
  {
   "cell_type": "code",
   "execution_count": 40,
   "metadata": {},
   "outputs": [
    {
     "name": "stdout",
     "output_type": "stream",
     "text": [
      "abcd\n",
      "[1, 2, 3, 4]\n",
      "(1, 2, 3, 4)\n"
     ]
    }
   ],
   "source": [
    "# concatenation를 해봅시다.\n",
    "print('ab'+'cd')\n",
    "print([1, 2]+[3, 4])\n",
    "print((1, 2)+(3, 4))"
   ]
  },
  {
   "cell_type": "code",
   "execution_count": 41,
   "metadata": {},
   "outputs": [
    {
     "data": {
      "text/plain": [
       "[0, 0, 0, 0, 0, 0]"
      ]
     },
     "execution_count": 41,
     "metadata": {},
     "output_type": "execute_result"
    }
   ],
   "source": [
    "# 숫자 0이 6개 있는 list를 만들어봅시다.\n",
    "[0]*6"
   ]
  },
  {
   "cell_type": "code",
   "execution_count": 42,
   "metadata": {},
   "outputs": [],
   "source": [
    "# indexing과 slicing을 하기 위해 list하나를 만들어주세요.\n",
    "locations = ['서울', '대전', '광주', '구미']"
   ]
  },
  {
   "cell_type": "code",
   "execution_count": 43,
   "metadata": {},
   "outputs": [
    {
     "data": {
      "text/plain": [
       "['대전', '광주']"
      ]
     },
     "execution_count": 43,
     "metadata": {},
     "output_type": "execute_result"
    }
   ],
   "source": [
    "# 두번쨰, 세번쨰 값만 가져와봅시다.\n",
    "locations[1:3] # 1 <= index < 3 : 1, 2"
   ]
  },
  {
   "cell_type": "code",
   "execution_count": 48,
   "metadata": {},
   "outputs": [
    {
     "name": "stdout",
     "output_type": "stream",
     "text": [
      "[0, 3, 6, 9, 12, 15, 18, 21, 24, 27, 30]\n",
      "[0, 3, 6, 9, 12, 15, 18, 21, 24, 27, 30]\n"
     ]
    }
   ],
   "source": [
    "# 0부터 30까지의 숫자를 3씩 증가시킨 상태로 list를 만들어봅시다.\n",
    "l1 = list(range(0, 31, 3))\n",
    "print(l1)\n",
    "\n",
    "l2 = list(range(0, 31))\n",
    "\n",
    "l3 = l2[0:31:3]\n",
    "print(l3)"
   ]
  },
  {
   "cell_type": "code",
   "execution_count": 13,
   "metadata": {},
   "outputs": [
    {
     "name": "stdout",
     "output_type": "stream",
     "text": [
      "[0, 1, 2, 3, 4, 5, 6, 7, 8, 9]\n",
      "elppa\n",
      "epa\n"
     ]
    }
   ],
   "source": [
    "l = list(range(10))\n",
    "\n",
    "print(l)\n",
    "l[3:] # index[3]부터 마지막까지(마지막 포함)\n",
    "l[3::2] # 3 <= index & step2 <= 마지막\n",
    "l[:] # 처음부터 마지막까지 모두\n",
    "l[::-1] # 뒤집기\n",
    "l[::-2] # 뒤집고 쉼표 두개씩 건너 뛰기\n",
    "print('apple'[::-1])\n",
    "print('apple'[::-2])\n"
   ]
  },
  {
   "cell_type": "code",
   "execution_count": 68,
   "metadata": {},
   "outputs": [
    {
     "name": "stdout",
     "output_type": "stream",
     "text": [
      "asantaatnasa\n"
     ]
    },
    {
     "data": {
      "text/plain": [
       "True"
      ]
     },
     "execution_count": 68,
     "metadata": {},
     "output_type": "execute_result"
    }
   ],
   "source": [
    "#palindrome 검사하는 코드 작성해보기 >> 알고리즘 1번 문제 등\n",
    "s = '수박이박수'\n",
    "s == s[::-1]\n",
    "\n",
    "s = 'A santa at nasa'.lower().replace(' ', '')\n",
    "print(s)\n",
    "s == s[::-1]"
   ]
  },
  {
   "cell_type": "code",
   "execution_count": 69,
   "metadata": {},
   "outputs": [
    {
     "name": "stdout",
     "output_type": "stream",
     "text": [
      "4\n",
      "4\n",
      "11\n"
     ]
    }
   ],
   "source": [
    "# 위에서 만든 list의 길이를 확인해봅시다.\n",
    "print(len('asdf'))\n",
    "print(len([1,2,3,4]))\n",
    "print(len(l1))"
   ]
  },
  {
   "cell_type": "code",
   "execution_count": 71,
   "metadata": {},
   "outputs": [
    {
     "name": "stdout",
     "output_type": "stream",
     "text": [
      "30 0\n"
     ]
    },
    {
     "data": {
      "text/plain": [
       "'ㄹ'"
      ]
     },
     "execution_count": 71,
     "metadata": {},
     "output_type": "execute_result"
    }
   ],
   "source": [
    "# 위에서 만든 list의 최솟값, 최댓값을 확인해봅시다.\n",
    "print(max(l1), min(l2))\n",
    "max('asdf') #s\n",
    "max('ㄱㄴㄹㄷ') #ㄹ\n",
    "ord"
   ]
  },
  {
   "cell_type": "code",
   "execution_count": 72,
   "metadata": {},
   "outputs": [
    {
     "name": "stdout",
     "output_type": "stream",
     "text": [
      "1\n",
      "2\n"
     ]
    }
   ],
   "source": [
    "# list에 담긴 특정한 것의 갯수를 확인할 수도 있습니다.\n",
    "print([1,2,3,4,5].count(1))\n",
    "print('apple'.count('p'))"
   ]
  },
  {
   "cell_type": "markdown",
   "metadata": {},
   "source": [
    "# set, dictionary\n",
    "\n",
    "* `set`과 `dictionary`는 \"기본적으로 순서가 없습니다\"."
   ]
  },
  {
   "cell_type": "markdown",
   "metadata": {},
   "source": [
    "## `set`\n",
    "\n",
    "세트는 수학에서의 집합과 동일하게 처리됩니다. \n",
    "\n",
    "세트는 중괄호`{}`를 통해 만들며, 순서가 없고 중복된 값이 없습니다.\n",
    "\n",
    "**활용법**\n",
    "```python\n",
    "{value1, value2, value3}\n",
    "```\n",
    "\n",
    "|연산자/함수|설명|\n",
    "|---|---|\n",
    "|a - b|차집합|\n",
    "|a \\| b|합집합|\n",
    "|a & b|교집합|\n",
    "|a.difference(b)|차집합|\n",
    "|a.union(b)|합집합|\n",
    "|a.intersection(b)|교집합|"
   ]
  },
  {
   "cell_type": "code",
   "execution_count": 76,
   "metadata": {},
   "outputs": [
    {
     "name": "stdout",
     "output_type": "stream",
     "text": [
      "{1, 2}\n",
      "{1, 2, 3, 4, 5}\n",
      "{3}\n",
      "{1, 2}\n"
     ]
    }
   ],
   "source": [
    "# set 두개를 만들어서 연산자들을 활용해봅시다.\n",
    "set_a = {1, 2, 3}\n",
    "set_b = {3, 4, 5}\n",
    "\n",
    "print(set_a - set_b)\n",
    "print(set_a | set_b)\n",
    "print(set_a & set_b)\n",
    "print(set_a.difference(set_b))"
   ]
  },
  {
   "cell_type": "code",
   "execution_count": 87,
   "metadata": {},
   "outputs": [
    {
     "name": "stdout",
     "output_type": "stream",
     "text": [
      "[1, 2, 3, 4, 5, 6, 7]\n",
      "[1, 2, 3, 4, 5, 6, 7]\n"
     ]
    }
   ],
   "source": [
    "# set은 중복된 값이 있을 수 없습니다.\n",
    "numbers = {1, 1, 2, 3, 4, 5, 5, 5, 6, 7}\n",
    "\n",
    "# 1 >>타언어에서도 동작하는 알고리즘\n",
    "uniques=[]\n",
    "\n",
    "for number in numbers:\n",
    "    if not number in uniques:\n",
    "        uniques.append(number)\n",
    "\n",
    "print(uniques)\n",
    "\n",
    "# 파이썬에서만 가능한\n",
    "print(list(set(numbers)))"
   ]
  },
  {
   "cell_type": "markdown",
   "metadata": {},
   "source": [
    "* `set`을 활용하면 `list`의 중복된 값을 손쉽게 제거할 수 있습니다."
   ]
  },
  {
   "cell_type": "code",
   "execution_count": 88,
   "metadata": {},
   "outputs": [
    {
     "data": {
      "text/plain": [
       "{1}"
      ]
     },
     "execution_count": 88,
     "metadata": {},
     "output_type": "execute_result"
    }
   ],
   "source": [
    "# set으로 중복된 값을 제거해봅시다.\n",
    "{1,1,1}"
   ]
  },
  {
   "cell_type": "code",
   "execution_count": 89,
   "metadata": {},
   "outputs": [
    {
     "data": {
      "text/plain": [
       "[1]"
      ]
     },
     "execution_count": 89,
     "metadata": {},
     "output_type": "execute_result"
    }
   ],
   "source": [
    "# 다시 list로 바꿔서 확인해봅시다.\n",
    "list({1,1,1,1})"
   ]
  },
  {
   "cell_type": "markdown",
   "metadata": {},
   "source": [
    "## `dictionary`\n",
    "\n",
    "<center><img src=\"./images/01/dictionary.png\"/></center> "
   ]
  },
  {
   "cell_type": "markdown",
   "metadata": {},
   "source": [
    "**활용법**\n",
    "```python\n",
    "{Key1:Value1, Key2:Value2, Key3:Value3, ...}\n",
    "```\n",
    "\n",
    "* 딕셔너리는 `key`와 `value`가 쌍으로 이뤄져있으며, 궁극의 자료구조입니다. \n",
    "* `{}`를 통해 만들며, `dict()`로 만들 수도 있습니다.\n",
    "* `key`는 immutable한 모든 것이 가능하다. (불변값 : string, integer, float, boolean, tuple, range)\n",
    "* `value`는 `list`, `dictionary`를 포함한 모든 것이 가능하다."
   ]
  },
  {
   "cell_type": "code",
   "execution_count": null,
   "metadata": {},
   "outputs": [],
   "source": [
    "# 비어있는 dictionary를 두가지 방법으로 만들어봅시다.\n",
    "empty_dict1 = {} # 리터럴 방식\n",
    "empty_dict2 = dict() # 생성자함수(constructor) 방식"
   ]
  },
  {
   "cell_type": "code",
   "execution_count": 92,
   "metadata": {},
   "outputs": [
    {
     "data": {
      "text/plain": [
       "'02'"
      ]
     },
     "execution_count": 92,
     "metadata": {},
     "output_type": "execute_result"
    }
   ],
   "source": [
    "# 지역번호(서울-02 경기-031 인천-032)가 담긴 전화번호부를 만들어봅시다.\n",
    "phone_book = {'서울' : '02', '경기' : '031', '인천' : '032'}\n",
    "phone_book['서울'] # 뭐든지 꺼낼때는 [] 대괄호 쓴다고 외우기★★★★★★"
   ]
  },
  {
   "cell_type": "code",
   "execution_count": 95,
   "metadata": {},
   "outputs": [
    {
     "name": "stdout",
     "output_type": "stream",
     "text": [
      "{1: 4, 2: 2, 3: 3}\n"
     ]
    }
   ],
   "source": [
    "# dictionary는 중복된 key는 존재할 수가 없습니다.\n",
    "dict_a = {1: 1, 2: 2, 3: 3, 1: 4}\n",
    "print(dict_a)"
   ]
  },
  {
   "cell_type": "code",
   "execution_count": 104,
   "metadata": {},
   "outputs": [
    {
     "name": "stdout",
     "output_type": "stream",
     "text": [
      "dict_keys(['a', 'b', 'c'])\n",
      "a\n",
      "b\n",
      "c\n"
     ]
    },
    {
     "data": {
      "text/plain": [
       "True"
      ]
     },
     "execution_count": 104,
     "metadata": {},
     "output_type": "execute_result"
    }
   ],
   "source": [
    "# 딕셔너리의 메소드를 활용하여 key를 확인 해볼 수 있습니다.\n",
    "dict_a = {'a': 1, 'b': 2, 'c': 3}\n",
    "print(dict_a.keys()) # > 리스트처럼 인덱스접근은 안되지만\n",
    "\n",
    "for key in dict_a.keys(): # for문에 넣고 돌릴 수 있고\n",
    "    print(key)\n",
    "    \n",
    "'a' in dict_a.keys() # 안에 있는 요소도 확인할 수 있다."
   ]
  },
  {
   "cell_type": "code",
   "execution_count": 97,
   "metadata": {},
   "outputs": [
    {
     "data": {
      "text/plain": [
       "dict_values([1, 2, 3])"
      ]
     },
     "execution_count": 97,
     "metadata": {},
     "output_type": "execute_result"
    }
   ],
   "source": [
    "# 딕셔너리의 메소드를 활용하여 value를 확인 해볼 수 있습니다.\n",
    "dict_a.values()"
   ]
  },
  {
   "cell_type": "markdown",
   "metadata": {},
   "source": [
    "### 참고 python 3.5 vs 3.7 기억할 두 가지\n",
    "\n",
    "3.5 - 딕셔너리에 순서가 없다 / 3.7 - 순서가 있다.\n",
    "3.5 - f'my {name}' 쓸 수 없다. / 3.7 - 쓸 수 있다."
   ]
  },
  {
   "cell_type": "markdown",
   "metadata": {},
   "source": [
    "# 정리\n",
    "## 데이터 타입\n",
    "<center><img src=\"./images/01/container.png\", alt=\"container\"/></center>"
   ]
  }
 ],
 "metadata": {
  "kernelspec": {
   "display_name": "Python 3",
   "language": "python",
   "name": "python3"
  },
  "language_info": {
   "codemirror_mode": {
    "name": "ipython",
    "version": 3
   },
   "file_extension": ".py",
   "mimetype": "text/x-python",
   "name": "python",
   "nbconvert_exporter": "python",
   "pygments_lexer": "ipython3",
   "version": "3.7.3"
  },
  "toc": {
   "base_numbering": 1,
   "nav_menu": {},
   "number_sections": true,
   "sideBar": true,
   "skip_h1_title": false,
   "title_cell": "Table of Contents",
   "title_sidebar": "Contents",
   "toc_cell": false,
   "toc_position": {},
   "toc_section_display": true,
   "toc_window_display": false
  }
 },
 "nbformat": 4,
 "nbformat_minor": 2
}
